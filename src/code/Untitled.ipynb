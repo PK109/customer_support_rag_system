{
 "cells": [
  {
   "cell_type": "code",
   "execution_count": 1,
   "id": "faca54eb-951e-4496-85cd-3abc729a950f",
   "metadata": {},
   "outputs": [],
   "source": [
    "from prompts import PromptLoader"
   ]
  },
  {
   "cell_type": "code",
   "execution_count": 11,
   "id": "ce24b246-fd3c-4661-ab37-1d470bdf27c8",
   "metadata": {},
   "outputs": [],
   "source": [
    "loader = PromptLoader('prompts.yaml')"
   ]
  },
  {
   "cell_type": "code",
   "execution_count": 12,
   "id": "d7f3c9ae-a80e-42d4-8d9e-be65c61c5cbc",
   "metadata": {},
   "outputs": [],
   "source": [
    "prompt = loader.render(\n",
    "    \"refine_query\",\n",
    "    query=\"My question\",\n",
    "    query_count=3\n",
    ")"
   ]
  },
  {
   "cell_type": "code",
   "execution_count": 13,
   "id": "55ba2da7-af40-439c-ae8f-a0159c4498ae",
   "metadata": {},
   "outputs": [
    {
     "data": {
      "text/plain": [
       "\"Given the user's query, generate 3 different reformulations of the query that capture the same intent but use different wording. Each reformulation should be concise and clear.\\n\\n<QUESTION>\\nMy question\\n</QUESTION>\""
      ]
     },
     "execution_count": 13,
     "metadata": {},
     "output_type": "execute_result"
    }
   ],
   "source": [
    "prompt"
   ]
  },
  {
   "cell_type": "code",
   "execution_count": null,
   "id": "3906f54c-8b49-4c85-a0b4-7ecbb279b91a",
   "metadata": {},
   "outputs": [],
   "source": []
  }
 ],
 "metadata": {
  "kernelspec": {
   "display_name": "Python 3 (ipykernel)",
   "language": "python",
   "name": "python3"
  },
  "language_info": {
   "codemirror_mode": {
    "name": "ipython",
    "version": 3
   },
   "file_extension": ".py",
   "mimetype": "text/x-python",
   "name": "python",
   "nbconvert_exporter": "python",
   "pygments_lexer": "ipython3",
   "version": "3.12.1"
  }
 },
 "nbformat": 4,
 "nbformat_minor": 5
}
