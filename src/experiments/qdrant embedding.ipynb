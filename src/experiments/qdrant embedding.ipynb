{
 "cells": [
  {
   "cell_type": "markdown",
   "id": "500ffc8c-7947-41ac-85eb-fde6bd44d37f",
   "metadata": {},
   "source": [
    "! pip install transformers"
   ]
  },
  {
   "cell_type": "code",
   "execution_count": 1,
   "id": "f4fbef36-3210-4c8e-b631-cdd5471ed11f",
   "metadata": {},
   "outputs": [],
   "source": [
    "from fastembed import TextEmbedding\n",
    "from pprint import pprint\n",
    "from transformers import AutoTokenizer\n",
    "import pathlib, json\n",
    "import re"
   ]
  },
  {
   "cell_type": "code",
   "execution_count": 11,
   "id": "cff5ad66-9784-4609-89e4-c957cf01e37d",
   "metadata": {},
   "outputs": [
    {
     "data": {
      "application/vnd.jupyter.widget-view+json": {
       "model_id": "45062d13aa99430d86a0b966113580fa",
       "version_major": 2,
       "version_minor": 0
      },
      "text/plain": [
       "Fetching 5 files:   0%|          | 0/5 [00:00<?, ?it/s]"
      ]
     },
     "metadata": {},
     "output_type": "display_data"
    },
    {
     "data": {
      "application/vnd.jupyter.widget-view+json": {
       "model_id": "e0277084314f4a47bef51e7e3c709d24",
       "version_major": 2,
       "version_minor": 0
      },
      "text/plain": [
       "tokenizer_config.json: 0.00B [00:00, ?B/s]"
      ]
     },
     "metadata": {},
     "output_type": "display_data"
    },
    {
     "data": {
      "application/vnd.jupyter.widget-view+json": {
       "model_id": "44898cc0ab8a42a28210bfa57896567d",
       "version_major": 2,
       "version_minor": 0
      },
      "text/plain": [
       "config.json: 0.00B [00:00, ?B/s]"
      ]
     },
     "metadata": {},
     "output_type": "display_data"
    },
    {
     "data": {
      "application/vnd.jupyter.widget-view+json": {
       "model_id": "fef5d5ae479f493eb2ff96de58002648",
       "version_major": 2,
       "version_minor": 0
      },
      "text/plain": [
       "onnx/model.onnx:   0%|          | 0.00/548M [00:00<?, ?B/s]"
      ]
     },
     "metadata": {},
     "output_type": "display_data"
    },
    {
     "data": {
      "application/vnd.jupyter.widget-view+json": {
       "model_id": "9fa1986fd4f44e339767e802153dbd81",
       "version_major": 2,
       "version_minor": 0
      },
      "text/plain": [
       "tokenizer.json: 0.00B [00:00, ?B/s]"
      ]
     },
     "metadata": {},
     "output_type": "display_data"
    },
    {
     "data": {
      "application/vnd.jupyter.widget-view+json": {
       "model_id": "e59d490fc00d4969906483b428e00500",
       "version_major": 2,
       "version_minor": 0
      },
      "text/plain": [
       "special_tokens_map.json:   0%|          | 0.00/695 [00:00<?, ?B/s]"
      ]
     },
     "metadata": {},
     "output_type": "display_data"
    }
   ],
   "source": [
    "model_name = 'snowflake/snowflake-arctic-embed-m-long'\n",
    "emb_model = TextEmbedding(model_name=model_name)"
   ]
  },
  {
   "cell_type": "code",
   "execution_count": 3,
   "id": "eecebfd9-36aa-4248-8714-3c2a7fbab2c1",
   "metadata": {},
   "outputs": [],
   "source": [
    "# Load tokenizer (must match the model)\n",
    "tokenizer = AutoTokenizer.from_pretrained(model_name)"
   ]
  },
  {
   "cell_type": "code",
   "execution_count": 4,
   "id": "943d98a2-7ffd-4cdd-8c83-b02093f73807",
   "metadata": {},
   "outputs": [],
   "source": [
    "filename = 'bfp-a3447q.pdf\"\n",
    "input_path = \"data/\" + filename\n",
    "output_path= input_path.split('.')[0]+'.txt'\n",
    "image_path = \"data/images\""
   ]
  },
  {
   "cell_type": "code",
   "execution_count": 7,
   "id": "58a2e242-d326-4b28-8c54-73bf6fb9864e",
   "metadata": {
    "collapsed": true,
    "jupyter": {
     "outputs_hidden": true
    }
   },
   "outputs": [
    {
     "name": "stdout",
     "output_type": "stream",
     "text": [
      "0) 1 General configuration\n",
      "1) 1.1 Structural equipment\n",
      "2) 1.1.1 Standard structural equipment\n",
      "3) 1.1.2 Special specifications\n",
      "4) 1.1.3 Options\n",
      "5) 1.1.4 Maintenance parts\n",
      "6) 1.2 Model type name of robot\n",
      "7) 1.2.1 How to identify the robot model\n",
      "8) 1.2.2 Combination of the robot arm and the controller\n",
      "9) 1.3 CE marking specifications\n",
      "10) 1.4 Indirect export\n",
      "11) 1.5 Instruction manuals\n",
      "12) 1.6 Contents of the structural equipment\n",
      "13) 1.6.1 Robot arm\n",
      "14) 1.6.2 Controller\n",
      "15) 1.7 Contents of the Option equipment and special specification\n",
      "16) 2 Robot arm\n",
      "17) 2.1 Standard specifications\n",
      "18) 2.1.1 Basic specifications\n",
      "19) (1) RH-3CH-Sxx\n",
      "20) (2) RH-6CH-Sxx\n",
      "21) 2.1.2 The counter-force applied to the installation surface\n",
      "22) 2.2 Definition of specifications\n",
      "23) 2.2.1 Pose repeatability\n",
      "24) 2.2.2 Mass capacity\n",
      "25) 2.2.3 Relationships Among Mass Capacity, Speed, and Acceleration/Deceleration Speed\n",
      "26) (1) Setting Load Capacity and Size (Hand Conditions)\n",
      "27) 2.2.4 Vibrations at the Tip of the Arm during Low-Speed Operation of the Robot\n",
      "28) 2.2.5 Vibration of shaft (J3 axis) position and arm end\n",
      "29) (1) Relationship Between Mass Capacity and Speed\n",
      "30) (2) Relationship Between Height of Shaft (J3 Axis) and Acceleration/Deceleration Speed\n",
      "31) (3) Relationship Between Offset Amount and Maximum Speed\n",
      "32) (4) Time to reach the position repeatability\n",
      "33) 2.2.6 Collision detection\n",
      "34) 2.2.7 Protection specifications\n",
      "35) (1) Types of protection specifications\n",
      "36) 2.3 Names of each part of the robot\n",
      "37) 2.4 Outside dimensions / Operating range diagram\n",
      "38) 2.4.1 Outside dimensions / Operating range diagram\n",
      "39) (1) Normal environmental specification\n",
      "40) 2.4.2 Outside dimensions of machine cables\n",
      "41) (1) RH-3CH-Sxx/RH-6CH-Sxx (fixed type)\n",
      "42) (2) RH-3CH-Sxx/RH-6CH-Sxx (flexed type)\n",
      "43) 2.5 Tooling\n",
      "44) 2.5.1 Wiring and piping for hand\n",
      "45) 2.5.2 Internal wiring and piping\n",
      "46) (1) General environment\n",
      "47) 2.5.3 Internal wiring for the hand output cable\n",
      "48) 2.5.4 About the Installation of Tooling Wiring and Piping (Examples of Wiring and Piping)\n",
      "49) 2.5.5 Air supply circuit example for the hand\n",
      "50) 2.6 Options\n",
      "51) (1) Machine cable（Fixed type）\n",
      "52) (2) Machine cable (flexed type)\n",
      "53) 2.7 About Overhaul\n",
      "54) 2.8 Maintenance parts\n",
      "55) 3 Controller\n",
      "56) 3.1 Standard specifications\n",
      "57) 3.1.1 Basic specifications\n",
      "58) 3.1.2 Protection specifications and operating supply\n",
      "59) 3.2 Names of each part\n",
      "60) 3.2.1 Controller\n",
      "61) 3.3 Outside dimensions/Installation dimensions\n",
      "62) 3.3.1 Outside dimensions\n",
      "63) 3.3.2 Installation dimensions\n",
      "64) 3.4 External input/output\n",
      "65) 3.4.1 Types\n",
      "66) 3.5 Dedicated input/output\n",
      "67) 3.6 Emergency stop input and output etc.\n",
      "68) 3.6.1 Connection of the external emergency stop\n",
      "69) 3.6.2 Special stop input (SKIP)\n",
      "70) 3.6.3 Door switch function\n",
      "71) 3.6.4 Enabling device function\n",
      "72) (1) When door is opening\n",
      "73) (2) When door is closing\n",
      "74) (3) Automatic Operation/Jog Operation/Brake Release and Necessary Switch Settings\n",
      "75) 3.7 Mode changeover switch input\n",
      "76) (1) Specification of the key switch interface\n",
      "77) (2) Connection of the mode changeover switch input\n",
      "78) 3.8 Additional axis function\n",
      "79) 3.8.1 Wiring of the additional axis interface\n",
      "80) (1) Example of the installation of the noise filter\n",
      "81) 3.9 Magnet contactor control connector output (AXMC) for addition axes\n",
      "82) 3.10 Options\n",
      "83) (1) Teaching pendant (T/B)\n",
      "84) (2) Parallel I/O interface\n",
      "85) (3) External I/O cable\n",
      "86) (4) Parallel I/O unit\n",
      "87) (5) External I/O cable\n",
      "88) (6) CC-Link interface\n",
      "89) (7) MELSOFT RT ToolBox2/MELSOFT RT ToolBox2 mini\n",
      "90) (8) Instruction Manual (hardcopy)\n",
      "91) 3.11 Maintenance parts\n",
      "92) 4 Software\n",
      "93) 4.1 Functions and specifications of RH-3CH-Sxx/RH-6CH-Sxx\n",
      "94) 4.1.1 Changed functions/specifications\n",
      "95) 4.1.2 Descriptions of changed functions/specifications\n",
      "96) 4.1.3 Origin position adjustment of J2 axis\n",
      "97) 4.2 List of commands\n",
      "98) 4.3 List of parameters\n",
      "99) 5 Instruction Manual\n",
      "100) 5.1 The details of each instruction manuals\n",
      "101) 6 Safety\n",
      "102) 6.1 Safety\n",
      "103) 6.1.1 Self-diagnosis stop functions\n",
      "104) 6.1.2 External input/output signals that can be used for safety protection measures\n",
      "105) 6.1.3 Precautions for using robot\n",
      "106) (1) Robot installation\n",
      "107) (2) Prevention of contact with operator\n",
      "108) (3) Work procedures\n",
      "109) (4) Training\n",
      "110) (5) Daily inspection and periodic inspection\n",
      "111) 6.1.4 Safety measures for automatic operation\n",
      "112) 6.1.5 Safety measures for teaching\n",
      "113) 6.1.6 Safety measures for maintenance and inspections, etc.\n",
      "114) 6.1.7 Examples of safety measures\n",
      "115) (1) External emergency stop connection [supplementary explanation]\n",
      "116) 6.2 Working environment\n",
      "117) (1) Power supply\n",
      "118) (2) Noise\n",
      "119) (3) Temperature and humidity\n",
      "120) (4) Vibration\n",
      "121) (5) Installation environment\n",
      "122) 6.3 Precautions for handling\n",
      "123) 6.4 EMC installation guideline\n",
      "124) 6.4.1 Outlines\n",
      "125) 6.4.2 EMC\n",
      "126) 6.4.3 EMC measures\n",
      "127) 6.4.4 Concrete example for RH-3CH/6CH series\n",
      "128) 6.4.5 Component parts for EMC measures\n",
      "129) (1) Ferrite core\n",
      "130) (2) Line noise filter\n",
      "131) 7 Appendix\n",
      "132) Appendix 1 ： Classification of functions using external input/output signals\n"
     ]
    }
   ],
   "source": [
    "for index, chapter in enumerate(data):\n",
    "    print(f'{index}) {chapter[1]}')"
   ]
  },
  {
   "cell_type": "raw",
   "id": "5a3e4edb-d2f0-4c6b-ad1d-43ea895e0094",
   "metadata": {
    "jupyter": {
     "source_hidden": true
    }
   },
   "source": [
    "text = data[19][-1]\n",
    "\n",
    "# Replace <br> with semicolons or newlines\n",
    "text = re.sub(r\"<br\\s*/?>\", \"; \", text)\n",
    "\n",
    "# Strip off excessive whitespace\n",
    "text = re.sub(r\"\\s+\", \" \", text)\n",
    "\n",
    "# Save cleaned text or parse into rows manually\n",
    "with open(\"cleaned_table.txt\", \"w\") as f:\n",
    "    f.write(text)\n"
   ]
  },
  {
   "cell_type": "code",
   "execution_count": 5,
   "id": "b3f716da-7c8a-4b35-8cea-7194f7ccd673",
   "metadata": {},
   "outputs": [],
   "source": [
    "def chunk_text_by_lines(text, tokenizer, chunk_size):\n",
    "    \"\"\"\n",
    "    Splits text into chunks based on token count, ensuring cuts only happen\n",
    "    between lines (preserving \\n).\n",
    "    \"\"\"\n",
    "    lines = text.splitlines(keepends=True)  # keep '\\n' at end of each line\n",
    "    chunks, current_chunk, current_tokens = [], [], 0\n",
    "    \n",
    "    for line in lines:\n",
    "        line_tokens = tokenizer.encode(line, add_special_tokens=False)\n",
    "        if current_tokens + len(line_tokens) > chunk_size:\n",
    "            # flush current chunk\n",
    "            chunks.append(\"\".join(current_chunk).strip())\n",
    "            current_chunk, current_tokens = [], 0\n",
    "        current_chunk.append(line)\n",
    "        current_tokens += len(line_tokens)\n",
    "    \n",
    "    # add last chunk\n",
    "    if current_chunk:\n",
    "        chunks.append(\"\".join(current_chunk).strip())\n",
    "    \n",
    "    return chunks"
   ]
  },
  {
   "cell_type": "code",
   "execution_count": 6,
   "id": "20093df3-aa40-4d4d-90fc-c432e64487f3",
   "metadata": {},
   "outputs": [],
   "source": [
    "json_read = pathlib.Path(output_path).read_text()\n",
    "data = json.loads(json_read)"
   ]
  },
  {
   "cell_type": "code",
   "execution_count": 7,
   "id": "7c8bbed7-a4a5-4d5f-ad03-813edbadc755",
   "metadata": {},
   "outputs": [
    {
     "name": "stdout",
     "output_type": "stream",
     "text": [
      "Token threshold: 1843\n",
      "Text length: 4782\tChunks count: 2\t for 1.2.2 Combination of the robot arm and the controller\n",
      "Text length: 5014\tChunks count: 2\t for 1.3 CE marking specifications\n",
      "Text length: 5162\tChunks count: 2\t for (2) RH-6CH-Sxx\n",
      "Text length: 4488\tChunks count: 2\t for (1) Setting Load Capacity and Size (Hand Conditions)\n",
      "Text length: 3917\tChunks count: 2\t for (1) Normal environmental specification\n",
      "Text length: 7392\tChunks count: 2\t for 3.5 Dedicated input/output\n",
      "Text length: 5025\tChunks count: 2\t for (1) Teaching pendant (T/B)\n",
      "Text length: 11510\tChunks count: 3\t for (2) Parallel I/O interface\n",
      "Text length: 13749\tChunks count: 3\t for (4) Parallel I/O unit\n",
      "Text length: 7526\tChunks count: 2\t for (6) CC-Link interface\n",
      "Text length: 7519\tChunks count: 2\t for 4.1.2 Descriptions of changed functions/specifications\n",
      "Text length: 8881\tChunks count: 2\t for 4.2 List of commands\n"
     ]
    }
   ],
   "source": [
    "max_tokens = 0\n",
    "chunks = []\n",
    "token_limit = round(2048*0.9)\n",
    "print(f'Token threshold: {token_limit}')\n",
    "for chunk in data:\n",
    "    text = chunk[-1]\n",
    "    # Replace <br> with semicolons or newlines\n",
    "    text = re.sub(r\"<br\\s*/?>\", \"; \", text)\n",
    "    \n",
    "    # Strip off excessive whitespace\n",
    "    text = re.sub(r\" +\", \" \", text)\n",
    "    text = re.sub(r\"~\", \"\", text)\n",
    "    chunk[-1] = chunk_text_by_lines(text, tokenizer, token_limit)\n",
    "    chunks.extend(chunk[-1])\n",
    "    if len(chunk[-1]) > 1:\n",
    "        print(f\"Text length: {len(text)}\\tChunks count: {len(chunk[-1])}\\t for {chunk[1]}\")\n"
   ]
  },
  {
   "cell_type": "code",
   "execution_count": 77,
   "id": "16eedd91-a04f-4128-9e8d-0bb13f9c0f3c",
   "metadata": {
    "collapsed": true,
    "jupyter": {
     "outputs_hidden": true
    }
   },
   "outputs": [
    {
     "name": "stdout",
     "output_type": "stream",
     "text": [
      "(4) Parallel I/O unit\n",
      "\n",
      "\n",
      "- Order type: 2A-RZ361 (Sink type)\n",
      "2A-RZ371 (Source type)\n",
      "\n",
      "\n",
      "- Outline\n",
      "\n",
      "This is used to expand the external inputs and outputs. One one equal with this unit\n",
      "is built into the control unit among controllers the standard.\n",
      "The connection cable is not included. .Prepare the optional external input/output\n",
      "cable (2A-CBL05 or 2A-CBL15).\n",
      "\n",
      "Use 2A-RZ361 if the external input/output signal logic is of the sink type and 2ARZ371 for source type signal logic.\n",
      "\n",
      "![](data/images/bfp-a3447q.pdf-94-0.png)\n",
      "\n",
      "\n",
      "Notes) Although the combined use with the parallel I/O interface (2D-TZ368) of another option is also possible,\n",
      "\n",
      " please use the setup of the station number by the different number separately. The station number is auto\n",
      "matically fixed by the position of the option slot which installed the parallel I/O interface in 0-1.\n",
      "\n",
      "\n",
      "- Configuration\n",
      "Table 3-20 ：Configuration device\n",
      "\n",
      "|Part name|Type|Qty.|Mass (kg) *Note 1)|Remarks|\n",
      "|---|---|---|---|---|\n",
      "|Parallel I/O unit|2A-RZ361|Either one; pc.|0.7|Input/output 32 points/32 points; 2A-RZ361 is the sink type.; 2A-RZ371 is the source type.|\n",
      "|Parallel I/O unit|2A-RZ371|2A-RZ371|0.7|0.7|\n",
      "|Robot I/O link connec-; tion connector|NETcable-1|2 sets|-|Connector with pins.; The cable must be prepared and wired by the customer.|\n",
      "|Power connection con-; nector|DCcable-2|1 set|-|Connector with pins.; The cable must be prepared and wired by the customer.|\n",
      "|Terminator|R-TM|1 pc.|-|100 Ω(1/4 W)|\n",
      "\n",
      "\n",
      "\n",
      " *Note 1) Mass indicates one set.\n",
      "\n",
      "\n",
      "- Specifications\n",
      "1) The parallel I/O interface (2D-TZ368) of another option, and the a maximum of eight pieces in all. (One station\n",
      "occupies one unit.)\n",
      "2) The power supply (24V) must be prepared by the customer and connected with the power connection cable\n",
      "(DCcable-2)\n",
      "A separate 24 V power supply is required for the input/output circuit wiring.\n",
      "\n",
      "\n",
      "Table 3-21 ：Electrical specifications of input circuits\n",
      "\n",
      "\n",
      "|Item|Col2|Specification|Col4|Internal circuit|\n",
      "|---|---|---|---|---|\n",
      "|Type|Type|DC input|DC input|<Sink type>; <Source type>; ; +24V/+12V; (COM); 3.3K; 820; Input; +24 V/+12 V; 3.3K; 820; 24G/12G; ; Input|\n",
      "|Number of input points|Number of input points|32|32|32|\n",
      "|Insulation method|Insulation method|Photo coupler insulation|Photo coupler insulation|Photo coupler insulation|\n",
      "|Rated input voltage|Rated input voltage|12 VDC|24 VDC|24 VDC|\n",
      "|Rated input current|Rated input current|Approx 3 mA|Approx 7 mA|Approx 7 mA|\n",
      "|Working voltage range|Working voltage range|10.2 to 26.4 VDC (Ripple factor should be less than 5%.)|10.2 to 26.4 VDC (Ripple factor should be less than 5%.)|10.2 to 26.4 VDC (Ripple factor should be less than 5%.)|\n",
      "|ON voltage/ON current|ON voltage/ON current|8 VDC or more/ 2 mA or more|8 VDC or more/ 2 mA or more|8 VDC or more/ 2 mA or more|\n",
      "|OFF voltage/ OFF current|OFF voltage/ OFF current|4 VDC or less/ 1 mA or less|4 VDC or less/ 1 mA or less|4 VDC or less/ 1 mA or less|\n",
      "|Input resistance|Input resistance|Approx. 3.3 kΩ|Approx. 3.3 kΩ|Approx. 3.3 kΩ|\n",
      "|Response time|OFF-ON|10 ms or less (24 VDC)|10 ms or less (24 VDC)|10 ms or less (24 VDC)|\n",
      "|Response time|ON-OFF|10 ms or less (24 VDC)|10 ms or less (24 VDC)|10 ms or less (24 VDC)|\n",
      "|Common method|Common method|8 points per common|8 points per common|8 points per common|\n",
      "|External cable connection method|External cable connection method|Connector|Connector|Connector|\n",
      "||||||\n",
      "\n",
      "Table 3-22 ：Electrical specifications for the output circuits\n",
      "\n",
      "|Item|Col2|Specification|Internal circuit|\n",
      "|---|---|---|---|\n",
      "|Type|Type|Transistor output|<Sink type>; <Source type>; +24V/+12V; ; 24G/12G; ; Output; Fuse; +24 V/+12 V; **+24**V/+12V; 24G/12G; ; ; Output; Fuse V/+12 V|\n",
      "|No. of output points|No. of output points|32|32|\n",
      "|Insulation method|Insulation method|Photo-coupler insulation|Photo-coupler insulation|\n",
      "|Rated load voltage|Rated load voltage|12 VDC/24 VDC|12 VDC/24 VDC|\n",
      "|Rated load voltage range|Rated load voltage range|10.2 to 30 VDC (peak voltage 30 VDC)|10.2 to 30 VDC (peak voltage 30 VDC)|\n",
      "|Max. load current|Max. load current|0.1 A/point (100)|0.1 A/point (100)|\n",
      "|Leakage current at OFF|Leakage current at OFF|0.1 mA or less|0.1 mA or less|\n",
      "|Max. voltage drop at ON|Max. voltage drop at ON|0.9 VDC (TYP.) *Note 1)|0.9 VDC (TYP.) *Note 1)|\n",
      "|Response time|OFF-ON|2 ms or less; (hardware response time)|2 ms or less; (hardware response time)|\n",
      "|Response time|ON-OFF|2 ms or less; (Resistance load) (hardware response time)|2 ms or less; (Resistance load) (hardware response time)|\n",
      "|Fuse rating|Fuse rating|Fuse 3.2 A (one per common) Replacement not possible|Fuse 3.2 A (one per common) Replacement not possible|\n",
      "|Common method|Common method|8 points per common (common terminal: 4 points)|8 points per common (common terminal: 4 points)|\n",
      "|External wire connection; method|External wire connection; method|Connector|Connector|\n",
      "|External power; supply|Voltage|12/24 VDC (10.2 to 30 VDC)|12/24 VDC (10.2 to 30 VDC)|\n",
      "|External power; supply|Current|60 mA (TYP. 24 VDC per common) (base drive current)|60 mA (TYP. 24 VDC per common) (base drive current)|\n",
      "\n",
      "\n",
      "\n",
      " *Note 1) The maximum voltage drop value at signal ON.\n",
      "Refer to it for the equipment connected to the output circuit.\n",
      "\n",
      "\n",
      "\n",
      "CAUTION\n",
      "\n",
      "\n",
      "CAUTION\n",
      "\n",
      "\n",
      "\n",
      "The output circuit protective fuses prevent failure in case of load short-circuit and\n",
      "improper connections. Please do not connect loads that cause the current to exceed\n",
      "the maximum rated current. If the maximum rated current is exceeded, the internal\n",
      "\n",
      "transistors may be damaged.\n",
      "\n",
      "\n",
      "Inputs the power supply for control (DCcable-2) then inputs the controllers power\n",
      "supply.\n",
      "\n",
      "\n",
      "|Pin No.|RIO1/2|\n",
      "|---|---|\n",
      "||TXRXH|\n",
      "||TXRXL|\n",
      "||SG (GND)|\n",
      "\n",
      "|Pin No.|DCIN|\n",
      "|---|---|\n",
      "||24V|\n",
      "||24G|\n",
      "\n",
      "|Pin No.|RIO1/2|\n",
      "|---|---|\n",
      "||TXRXH|\n",
      "||TXRXL|\n",
      "||SG (GND)|\n",
      "\n",
      "|Type|Connector type|Contact type|Resistant|Manufacturer|\n",
      "---Chunk Split---\n",
      "|---|---|---|---|---|\n",
      "|NETcable-1|1-178288-3 (2)|1-175218-2 (6)||Tyco Electronics (Black connector)|\n",
      "|NETcable-1|51103-0300 (1)|50351-8100 (3)||MOLEX (White connector)|\n",
      "|DCcable-2|2-178288-3 (1)|1-175218-5 (3)||Tyco Electronics (Black connector)|\n",
      "|R-TM|1-178288-3 (1)|1-175218-3 (2)|100 Ω(1/4 W) (1)|Equivalent to KOA.|\n",
      "\n",
      "\n",
      "![](data/images/bfp-a3447q.pdf-96-0.png)\n",
      "\n",
      "Fig.3-26 ：Specifications for the connection cable\n",
      "\n",
      "\n",
      "- Installation method\n",
      "\n",
      "The expansion parallel input/output unit is installed outside of the controller. Connect with the network\n",
      "connection cable (NETcable-1) from the RIO connector in the rear/into of the controller.(Terminator is connected\n",
      "at the time of shipment)\n",
      "\n",
      "![](data/images/bfp-a3447q.pdf-97-0.png)\n",
      "\n",
      "\n",
      "Fig.3-27 ：Installing the parallel I/O unit (CR751)\n",
      "\n",
      "\n",
      "![](data/images/bfp-a3447q.pdf-98-0.png)\n",
      "\n",
      "Fig.3-28 ：Connection method of expansion parallel I/O unit (CR751)\n",
      "\n",
      "\n",
      "- Pin arrangement of the connector\n",
      "\n",
      "![](data/images/bfp-a3447q.pdf-99-0.png)\n",
      "\n",
      "\n",
      "*2A-RZ361/2 A-RZ371 are 32/32 input-and-output units. (One-station occupancy)\n",
      "\n",
      "\n",
      "Fig.3-29 ：Pin arrangement of the parallel I/O unit\n",
      "\n",
      "\n",
      "- Assignment of pin number and signal\n",
      "The assignment range of the general-purpose input-and-output signal is fixed by the setup of the station number.\n",
      "\n",
      "\n",
      "Table 3-23 ：Assignment of pin number and signal\n",
      "\n",
      "|Unit Number|Station; number|CN100|CN300|\n",
      "|---|---|---|---|\n",
      "|1st set|0|Input ：0 to 15; Output ：0 to 15|Input ：16 to 31; Output ：16 to 31|\n",
      "|2nd set|1|Input ：32 to 47; Output ：32 to 47|Input ：48 to 63; Output ：48 to 63|\n",
      "|3rd set|2|Input ：64 to 79; Output ：64 to 79|Input ：80 to 95; Output ：80 to 95|\n",
      "|4th set|3|Input ：96 to 111; Output ：96 to 111|Input ：112 to 127; Output ：112 to 127|\n",
      "|5th set|4|Input ：128 to 143; Output ：128 to 143|Input ：144 to 159; Output ：144 to 159|\n",
      "|6th set|5|Input ：160 to 175; Output ：160 to 175|Input ：176 to 191; Output ：176 to 191|\n",
      "|7th set|6|Input ：192 to 207; Output ：192 to 207|Input ：208 to 223; Output ：208 to 223|\n",
      "|8th set|7|Input ：224 to 239; Output ：224 to 239|Input ：240 to 255; Output ：240 to 255|\n",
      "\n",
      "\n",
      "\n",
      "The connector pin number of the parallel I/O unit of the station number 0 and signal number assignment are\n",
      "shown in Table 3-24 and Table 3-25. If it is set as other station number, please interpret and utilize.\n",
      "\n",
      "\n",
      "- Parallel I/O interface (First expansion unit)\n",
      "\n",
      "|Tabl|le 3-24 ：Con|nnector CN100 pin No. and signal assignm|Col4|ment|t list (2A-CB|BL □□)|Col8|\n",
      "|---|---|---|---|---|---|---|---|\n",
      "|Pin; No.|Line color|Function name|Function name|Pin; No.|Line color|Function name|Function name|\n",
      "|Pin; No.|Line color|General-purpose|Dedicated/power supply,; common|Dedicated/power supply,; common|Dedicated/power supply,; common|General-purpose|Dedicated/power supply,; common|\n",
      "|1; 2; 3; 4; 5|Orange/Red A; Gray/Red A; White/Red A; Yellow/Red A; Pink/Red A|General-purpose output 0; General-purpose output 1|FG; 0 V:For pins 4-7, 10-13; 12/24 V:For pins 4-7; Operating output *Note 1); In servo ON output signal; *Note 1)|26; 27; 28; 29; 30|Orange/Blue A; Gray/Blue A; White/Blue A; Yellow/Blue A; Pink/Blue A|General-purpose output 4; General-purpose output 5|FG; 0 V:For pins 29-32, 35-38; 12/24 V:For pins 29-32|\n",
      "|6; 7; 8; 9; 10|Orange/Red B; Gray/Red B; White/Red B; Yellow/Red B; Pink/Red B|General-purpose output 2; General-purpose output 3; General-purpose output 8|Error occurring output signal; *Note 1); Operation rights output sig-; nal *Note 1); 0 V:For pins 4-7, 10-13; 12/24 V:For pins 10-13|31; 32; 33; 34; 35|Orange/Blue B; Gray/Blue B; White/Blue B; Yellow/Blue B; Pink/Blue B|General-purpose output 6; General-purpose output 7; General-purpose output 12|0 V:For pins 29-32, 35-38; 12/24 V:For pins 35-38|\n",
      "|11; 12; 13; 14; 15|Orange/Red C; Gray/Red C; White/Red C; Yellow/Red C; Pink/Red C|General-purpose output 9; General-purpose output 10; General-purpose output 11; General-purpose input 0|COM0:For pins 15-22 *Note 2); Stop input *Note 3)|36; 37; 38; 39; 40|Orange/Blue C; Gray/Blue C; White/Blue C; Yellow/Blue C; Pink/Blue C|General-purpose output 13; General-purpose output 14; General-purpose output 15; General-purpose input 8|COM1:For pins 40-47 ; *Note 2)|\n",
      "|16; 17; 18; 19; 20|Orange/Red D; Gray/Red D; White/Red D; Yellow/Red D; Pink/Red D|General-purpose input 1; General-purpose input 2; General-purpose input 3; General-purpose input 4; General-purpose input 5|Servo OFF input signal; *Note 1); Error reset input signal; *Note 1); Start input *Note 1); Servo ON input signal *Note 1); Operation rights input sig-; nal *Note 1)|41; 42; 43; 44; 45|Orange/Blue D; Gray/Blue D; White/Blue D; Yellow/Blue D; Pink/Blue D|General-purpose input 9; General-purpose input 10; General-purpose input 11; General-purpose input 12; General-purpose input 13||\n",
      "|21; 22; 23; 24; 25|Orange/Red E; Gray/Red E; White/Red E; Yellow/Red E; Pink/Red E|General-purpose input 6; General-purpose input 7|Reserved; Reserved; Reserved|46; 47; 48; 49; 50|Orange/Blue E; Gray/Blue E; White/Blue E; Yellow/Blue E; Pink/Blue E|General-purpose input 14; General-purpose input 15|Reserved; Reserved; Reserved|\n",
      "\n",
      "\n",
      "\n",
      " *Note 1) The dedicated signal is assigned at shipping. It can change with the parameter.\n",
      "\n",
      " *Note 2) Sink type: 12V/24V (COM), Source type: 0V (COM)\n",
      "\n",
      " *Note 3) The dedicated input signal (STOP) is assigned at shipping. The signal number is fixing.\n",
      "---Chunk Split---\n",
      "|Tabl|le 3-25 ：Con|nnector CN300 pin No. and signal assignm|Col4|ment|t list (2A-CB|BL □□)|Col8|\n",
      "|---|---|---|---|---|---|---|---|\n",
      "|Pin; No.|Line color|Function name|Function name|Pin; No.|Line color|Function name|Function name|\n",
      "|Pin; No.|Line color|General-purpose|Dedicated/power supply,; common|Dedicated/power supply,; common|Dedicated/power supply,; common|General-purpose|Dedicated/power supply,; common|\n",
      "|1; 2; 3; 4; 5|Orange/Red A; Gray/Red A; White/Red A; Yellow/Red A; Pink/Red A|General-purpose output 16; General-purpose output 17|FG; 0 V:For pins 4-7, 10-13; 12/24 V:For pins 4-7|26; 27; 28; 29; 30|Orange/Blue A; Gray/Blue A; White/Blue A; Yellow/Blue A; Pink/Blue A|General-purpose output 20; General-purpose output 21|FG; 0 V:For pins 29-32, 35-38; 12/24 V:For pins 29-32|\n",
      "|6; 7; 8; 9; 10|Orange/Red B; Gray/Red B; White/Red B; Yellow/Red B; Pink/Red B|General-purpose output 18; General-purpose output 19; General-purpose output 24|0 V:For pins 4-7, 10-13; 12/24 V:For pins 10-13|31; 32; 33; 34; 35|Orange/Blue B; Gray/Blue B; White/Blue B; Yellow/Blue B; Pink/Blue B|General-purpose output 22; General-purpose output 23; General-purpose output 28|0 V:For pins 29-32, 35-38; 12/24 V:For pins 35-38|\n",
      "|11; 12; 13; 14; 15|Orange/Red C; Gray/Red C; White/Red C; Yellow/Red C; Pink/Red C|General-purpose output 25; General-purpose output 26; General-purpose output 27; General-purpose input 16|COM0:For pins 15-22 *Note 1)|36; 37; 38; 39; 40|Orange/Blue C; Gray/Blue C; White/Blue C; Yellow/Blue C; Pink/Blue C|General-purpose output 29; General-purpose output 30; General-purpose output 31; General-purpose input 24|COM1:For pins 40-47 Note; 1)|\n",
      "|16; 17; 18; 19; 20|Orange/Red D; Gray/Red D; White/Red D; Yellow/Red D; Pink/Red D|General-purpose input 17; General-purpose input 18; General-purpose input 19; General-purpose input 20; General-purpose input 21||41; 42; 43; 44; 45|Orange/Blue D; Gray/Blue D; White/Blue D; Yellow/Blue D; Pink/Blue D|General-purpose input 25; General-purpose input 26; General-purpose input 27; General-purpose input 28; General-purpose input 29||\n",
      "\n",
      "\n",
      "\n",
      "21 Orange/Red E General-purpose input 22 46 Orange/Blue E General-purpose input 30\n",
      "\n",
      "22 Gray/Red E General-purpose input 23 47 Gray/Blue E General-purpose input 31\n",
      "\n",
      "23 White/Red E Reserved 48 White/Blue E Reserved\n",
      "\n",
      "24 Yellow/Red E Reserved 49 Yellow/Blue E Reserved\n",
      "\n",
      "25 Pink/Red E Reserved 50 Pink/Blue E Reserved\n",
      "\n",
      "\n",
      "<Reference> The example of connection with our PLC\n",
      "\n",
      "![](data/images/bfp-a3447q.pdf-101-0.png)\n",
      "\n",
      "\n",
      "Fig.3-30 ：Connection with a Mitsubishi PLC (Example of sink type)\n",
      "\n",
      "![](data/images/bfp-a3447q.pdf-101-1.png)\n",
      "\n",
      "\n",
      "Fig.3-31 ：Connection with a Mitsubishi PLC (Example of source type)\n"
     ]
    }
   ],
   "source": [
    "print(*data[86][-1], sep='\\n---Chunk Split---\\n')"
   ]
  },
  {
   "cell_type": "code",
   "execution_count": 8,
   "id": "9de2063e-2f5f-4c12-a9b9-c7597ff74b2e",
   "metadata": {},
   "outputs": [],
   "source": [
    "from qdrant_client import QdrantClient, models"
   ]
  },
  {
   "cell_type": "code",
   "execution_count": 16,
   "id": "42554489-0281-4842-b4e2-0aa0b035b4dc",
   "metadata": {},
   "outputs": [],
   "source": [
    "client = QdrantClient(\"http://localhost:6333\") #connecting to local Qdrant instance"
   ]
  },
  {
   "cell_type": "code",
   "execution_count": 18,
   "id": "51890028-91e1-459f-8eda-646d5d4e3e0c",
   "metadata": {},
   "outputs": [
    {
     "data": {
      "text/plain": [
       "True"
      ]
     },
     "execution_count": 18,
     "metadata": {},
     "output_type": "execute_result"
    }
   ],
   "source": [
    "# Define the collection name\n",
    "collection_name = \"bfp-a3447q\"\n",
    "\n",
    "# Create the collection with specified vector parameters\n",
    "client.create_collection(\n",
    "    collection_name=collection_name,\n",
    "    vectors_config=models.VectorParams(\n",
    "        size=emb_model.embedding_size,  # Dimensionality of the vectors\n",
    "        distance=models.Distance.COSINE  # Distance metric for similarity search\n",
    "    )\n",
    ")"
   ]
  },
  {
   "cell_type": "code",
   "execution_count": 17,
   "id": "0e4ca76e-1299-4b1c-b469-de0af11479cd",
   "metadata": {},
   "outputs": [
    {
     "data": {
      "text/plain": [
       "False"
      ]
     },
     "execution_count": 17,
     "metadata": {},
     "output_type": "execute_result"
    }
   ],
   "source": [
    "client.collection_exists('bfp-a3447q')"
   ]
  },
  {
   "cell_type": "code",
   "execution_count": 19,
   "id": "ecd202a0-711d-45f4-9aae-e42e54af0210",
   "metadata": {},
   "outputs": [
    {
     "data": {
      "text/plain": [
       "[[1, '1 General configuration', 14, ['1 General configuration']],\n",
       " [2,\n",
       "  '1.1 Structural equipment',\n",
       "  14,\n",
       "  ['1.1 Structural equipment\\n\\nStructural equipment consists of the following types.']],\n",
       " [3,\n",
       "  '1.1.1 Standard structural equipment',\n",
       "  14,\n",
       "  ['1.1.1 Standard structural equipment\\n\\nThe following items are enclosed as a standard.\\n(1) Robot arm\\n(2) Controller\\n(3) Machine cable\\n(4) Robot arm installation bolts\\n(5) Safety manual, CD-ROM (Instruction manual)\\n(6) Guarantee card']]]"
      ]
     },
     "execution_count": 19,
     "metadata": {},
     "output_type": "execute_result"
    }
   ],
   "source": [
    "data[:3]"
   ]
  },
  {
   "cell_type": "code",
   "execution_count": 22,
   "id": "8059bbff-1dca-4eae-849e-2c79f9ea5567",
   "metadata": {},
   "outputs": [],
   "source": [
    "points = []\n",
    "parent_chapter = \"\"\n",
    "id = 0\n",
    "title = 'RH-3CH-Sxx/RH-6CH-Sxx Special Specifications Manual' # can be obtained from doc metadata\n",
    "for chapter in data:\n",
    "    # elements of data list:\n",
    "        # 0 - chapter level\n",
    "        # 1 - chapter name\n",
    "        # 2 - page number (1-based)\n",
    "        # 3 - list of chunks of text\n",
    "    if chapter[0] == 1:\n",
    "        root_chapter = chapter[1]\n",
    "    for chunk in chapter[-1]:\n",
    "        point = models.PointStruct(\n",
    "            id=id,\n",
    "            vector=models.Document(text=chunk, model=model_name),\n",
    "            payload={\n",
    "                \"content\": chunk,\n",
    "                \"main_chapter\": root_chapter,\n",
    "                \"chapter\": chapter[1],\n",
    "                \"manual\": title,\n",
    "                \"page\": chapter[2]\n",
    "            } #save all needed metadata fields\n",
    "        )\n",
    "        points.append(point)\n",
    "\n",
    "        id += 1"
   ]
  },
  {
   "cell_type": "code",
   "execution_count": 23,
   "id": "2b6f9707-adba-4d6e-a7d2-41edec70f2cc",
   "metadata": {},
   "outputs": [
    {
     "data": {
      "text/plain": [
       "UpdateResult(operation_id=1, status=<UpdateStatus.COMPLETED: 'completed'>)"
      ]
     },
     "execution_count": 23,
     "metadata": {},
     "output_type": "execute_result"
    }
   ],
   "source": [
    "client.upsert(\n",
    "    collection_name=collection_name,\n",
    "    points=points\n",
    ")"
   ]
  }
 ],
 "metadata": {
  "kernelspec": {
   "display_name": "Python 3 (ipykernel)",
   "language": "python",
   "name": "python3"
  },
  "language_info": {
   "codemirror_mode": {
    "name": "ipython",
    "version": 3
   },
   "file_extension": ".py",
   "mimetype": "text/x-python",
   "name": "python",
   "nbconvert_exporter": "python",
   "pygments_lexer": "ipython3",
   "version": "3.12.1"
  }
 },
 "nbformat": 4,
 "nbformat_minor": 5
}
