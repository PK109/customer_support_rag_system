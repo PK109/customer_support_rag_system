{
 "cells": [
  {
   "cell_type": "markdown",
   "id": "a8071857-b9a4-4baf-81d5-bfe0708ebab9",
   "metadata": {},
   "source": [
    "## Chunking"
   ]
  },
  {
   "cell_type": "markdown",
   "id": "500ffc8c-7947-41ac-85eb-fde6bd44d37f",
   "metadata": {},
   "source": [
    "! pip install transformers"
   ]
  },
  {
   "cell_type": "code",
   "execution_count": 1,
   "id": "cff5ad66-9784-4609-89e4-c957cf01e37d",
   "metadata": {},
   "outputs": [],
   "source": [
    "model_name = 'snowflake/snowflake-arctic-embed-m-long'\n",
    "emb_dimensions = 768"
   ]
  },
  {
   "cell_type": "code",
   "execution_count": 2,
   "id": "eecebfd9-36aa-4248-8714-3c2a7fbab2c1",
   "metadata": {},
   "outputs": [],
   "source": [
    "# Load tokenizer (must match the model)\n",
    "from transformers import AutoTokenizer\n",
    "tokenizer = AutoTokenizer.from_pretrained(model_name)"
   ]
  },
  {
   "cell_type": "code",
   "execution_count": 3,
   "id": "943d98a2-7ffd-4cdd-8c83-b02093f73807",
   "metadata": {},
   "outputs": [],
   "source": [
    "filename = \"bfp-a3447q.pdf\"\n",
    "input_path = \"data/\" + filename.split('.')[0]+'.txt'\n",
    "output_path= input_path.split('.')[0]+'_chunked.txt'\n",
    "image_path = \"data/images\""
   ]
  },
  {
   "cell_type": "code",
   "execution_count": 6,
   "id": "b3f716da-7c8a-4b35-8cea-7194f7ccd673",
   "metadata": {},
   "outputs": [],
   "source": [
    "import math\n",
    "def chunk_text_by_lines(text, tokenizer, token_limit):\n",
    "    \"\"\"\n",
    "    Splits text into chunks based on token count, ensuring cuts only happen\n",
    "    between lines (preserving \\n).\n",
    "    \"\"\"\n",
    "    lines = text.splitlines(keepends=True)  # keep '\\n' at end of each line\n",
    "    chunks, current_chunk, current_tokens = [], [], 0\n",
    "    all_tokens = tokenizer.encode(text, add_special_tokens=False)\n",
    "    # setting 'soft limit'\n",
    "    chunk_size = math.ceil(len(all_tokens) / math.ceil(len(all_tokens)/ token_limit))\n",
    "    for line in lines:\n",
    "        line_tokens = tokenizer.encode(line, add_special_tokens=False)\n",
    "        if current_tokens + len(line_tokens) > token_limit:\n",
    "            # flush current chunk\n",
    "            chunks.append(\"\".join(current_chunk).strip())\n",
    "            current_chunk, current_tokens = [], 0\n",
    "        current_chunk.append(line)\n",
    "        current_tokens += len(line_tokens)\n",
    "        if current_tokens > chunk_size:\n",
    "            # flush current chunk\n",
    "            chunks.append(\"\".join(current_chunk).strip())\n",
    "            current_chunk, current_tokens = [], 0\n",
    "    \n",
    "    # add last chunk\n",
    "    if current_chunk:\n",
    "        chunks.append(\"\".join(current_chunk).strip())\n",
    "    \n",
    "    return chunks, chunk_size"
   ]
  },
  {
   "cell_type": "code",
   "execution_count": 10,
   "id": "7c8bbed7-a4a5-4d5f-ad03-813edbadc755",
   "metadata": {},
   "outputs": [
    {
     "name": "stdout",
     "output_type": "stream",
     "text": [
      "Token threshold: 1000\n",
      "8) Text length: 409\tToken chunk size: 974\tChunks count: 5\t for 1.2.2 Combination of the robot arm and the controller\n",
      "9) Text length: 426\tToken chunk size: 779\tChunks count: 5\t for 1.3 CE marking specifications\n",
      "15) Text length: 2306\tToken chunk size: 694\tChunks count: 2\t for 1.7 Contents of the Option equipment and special specification\n",
      "19) Text length: 2801\tToken chunk size: 862\tChunks count: 2\t for (1) RH-3CH-Sxx\n",
      "20) Text length: 2919\tToken chunk size: 945\tChunks count: 2\t for (2) RH-6CH-Sxx\n",
      "26) Text length: 1023\tToken chunk size: 884\tChunks count: 4\t for (1) Setting Load Capacity and Size (Hand Conditions)\n",
      "39) Text length: 1245\tToken chunk size: 811\tChunks count: 3\t for (1) Normal environmental specification\n",
      "52) Text length: 1868\tToken chunk size: 569\tChunks count: 2\t for (2) Machine cable (flexed type)\n",
      "57) Text length: 2719\tToken chunk size: 693\tChunks count: 2\t for 3.1.1 Basic specifications\n",
      "66) Text length: 2155\tToken chunk size: 687\tChunks count: 3\t for 3.5 Dedicated input/output\n",
      "81) Text length: 869\tToken chunk size: 523\tChunks count: 2\t for 3.9 Magnet contactor control connector output (AXMC) for addition axes\n",
      "83) Text length: 2179\tToken chunk size: 610\tChunks count: 2\t for (1) Teaching pendant (T/B)\n",
      "84) Text length: 2532\tToken chunk size: 922\tChunks count: 4\t for (2) Parallel I/O interface\n",
      "85) Text length: 1131\tToken chunk size: 517\tChunks count: 2\t for (3) External I/O cable\n",
      "86) Text length: 2553\tToken chunk size: 912\tChunks count: 5\t for (4) Parallel I/O unit\n",
      "88) Text length: 2693\tToken chunk size: 794\tChunks count: 3\t for (6) CC-Link interface\n",
      "89) Text length: 2312\tToken chunk size: 622\tChunks count: 2\t for (7) MELSOFT RT ToolBox2/MELSOFT RT ToolBox2 mini\n",
      "90) Text length: 2239\tToken chunk size: 516\tChunks count: 2\t for (8) Instruction Manual (hardcopy)\n",
      "95) Text length: 2149\tToken chunk size: 705\tChunks count: 3\t for 4.1.2 Descriptions of changed functions/specifications\n",
      "97) Text length: 2644\tToken chunk size: 788\tChunks count: 3\t for 4.2 List of commands\n",
      "98) Text length: 2729\tToken chunk size: 913\tChunks count: 2\t for 4.3 List of parameters\n",
      "114) Text length: 2794\tToken chunk size: 592\tChunks count: 2\t for 6.1.7 Examples of safety measures\n",
      "122) Text length: 2995\tToken chunk size: 643\tChunks count: 2\t for 6.3 Precautions for handling\n"
     ]
    }
   ],
   "source": [
    "import re\n",
    "import pathlib, json\n",
    "json_read = pathlib.Path(input_path).read_text()\n",
    "data = json.loads(json_read)\n",
    "chunked_data = []\n",
    "chunks = []\n",
    "token_limit = 1000\n",
    "print(f'Token threshold: {token_limit}')\n",
    "for index, chunk in enumerate(data):\n",
    "    text = chunk[-1]\n",
    "    # Replace <br> with semicolons or newlines to reduce token consumption and clean tables\n",
    "    text = re.sub(r\"<br\\s*/?>\", \"; \", text)\n",
    "    \n",
    "    # Strip off excessive whitespace\n",
    "    text = re.sub(r\" +\", \" \", text)\n",
    "    text = re.sub(r\"\\.+\", \".\", text)\n",
    "    text = re.sub(r\"~\", \"\", text)\n",
    "        \n",
    "    chunks, size = chunk_text_by_lines(text, tokenizer, token_limit)\n",
    "    for text in chunks:\n",
    "        chunked_data.append(\n",
    "            [chunk[0],\n",
    "             chunk[1],\n",
    "             chunk[2],\n",
    "             text]\n",
    "        )\n",
    "    if len(chunks) > 1:\n",
    "        print(f\"{index}) Text length: {len(text)}\\tToken chunk size: {size}\\tChunks count: {len(chunks)}\\t for {chunk[1]}\")\n"
   ]
  },
  {
   "cell_type": "code",
   "execution_count": 14,
   "id": "a86b6405-778c-4fe0-8d18-b0b16efd62e2",
   "metadata": {},
   "outputs": [],
   "source": [
    "import json\n",
    "json_file=json.dumps(chunked_data, indent=2)\n",
    "# Exporting data to output file for storage\n",
    "with open(output_path, mode='w+') as f_out:\n",
    "    f_out.write(json_file)"
   ]
  },
  {
   "cell_type": "raw",
   "id": "a8bbd6aa-3747-490b-b8ac-17f769f409ec",
   "metadata": {},
   "source": [
    "For chapter 1 General configuration, sum of tokens equals 8722.\n",
    "For chapter 2 Robot arm, sum of tokens equals 16310.\n",
    "For chapter 3 Controller, sum of tokens equals 28788.\n",
    "For chapter 4 Software, sum of tokens equals 7087.\n",
    "For chapter 5 Instruction Manual, sum of tokens equals 372.\n",
    "For chapter 6 Safety, sum of tokens equals 7411."
   ]
  },
  {
   "cell_type": "code",
   "execution_count": 5,
   "id": "0a107e12-bc86-405f-9482-3518a3c3f14a",
   "metadata": {},
   "outputs": [],
   "source": [
    "data_folder = \"data/\"\n",
    "filename = data_folder + \"bfp-a3447q.pdf\"\n",
    "content_path= filename.split('.')[0]+'_chunked.txt'\n",
    "context_path= filename.split('.')[0]+'_context.txt'\n",
    "image_path = \"data/images\""
   ]
  },
  {
   "cell_type": "code",
   "execution_count": 6,
   "id": "59159df5-bc19-4a31-b76e-eb4db61af655",
   "metadata": {},
   "outputs": [],
   "source": [
    "import pathlib, json\n",
    "json_read = pathlib.Path(context_path).read_text()\n",
    "data_context = json.loads(json_read)\n",
    "data_context = {int(k): v for k, v in data_context.items()}"
   ]
  },
  {
   "cell_type": "code",
   "execution_count": 9,
   "id": "1af10f26-d0ba-4532-a6bf-0eaba0c7e323",
   "metadata": {},
   "outputs": [
    {
     "name": "stdout",
     "output_type": "stream",
     "text": [
      "For chapter no: 31, token count is 717\n",
      "For chapter no: 34, token count is 1106\n",
      "For chapter no: 45, token count is 725\n",
      "For chapter no: 67, token count is 756\n",
      "For chapter no: 71, token count is 639\n",
      "For chapter no: 104, token count is 665\n",
      "For chapter no: 106, token count is 601\n",
      "For chapter no: 108, token count is 742\n",
      "For chapter no: 116, token count is 687\n",
      "For chapter no: 119, token count is 602\n",
      "For chapter no: 135, token count is 649\n"
     ]
    }
   ],
   "source": [
    "max_len = 0\n",
    "for k,v in data_context.items():\n",
    "    all_tokens = tokenizer.encode(v, add_special_tokens=False)\n",
    "    if len(all_tokens) > 600:\n",
    "        if len(all_tokens) > max_len:\n",
    "            max_len = len(all_tokens)\n",
    "        print(f'For chapter no: {k}, token count is {len(all_tokens)}')"
   ]
  },
  {
   "cell_type": "code",
   "execution_count": 16,
   "id": "34a5d412-ba65-4ab7-8d96-169726c48468",
   "metadata": {},
   "outputs": [],
   "source": [
    "text = \"\"\"\n",
    "The document provides technical specifications for different robot models (RH-6CH6020-S11/S15, RH-6CH7020-S11/S15, RH-6CH6020-S23/S24, RH-6CH7020-S23/S24). These specifications include allowable inertia, J3(Z) axis pressing force, maximum eccentricity, mass, tool wiring , tool pneumatic pipes, supply pressure, protection, ambient temperature, painting color, and machine cable length.\\nNotes clarify: Note 1 covers max speed with MvTune2 and no auto compensation. Note 3 explains cycle time under MvTune2, affected by accuracy needs and carrying mass per model. Note 5 defines J3(Z) axis pressing force and overload risks. Note 8 explains setting environmental temperature with parameter OLTMX for control and protection.\\n\\nSection 2.1.2 addresses counter-force on installation surface, listing falls moment (ML), torsion moment (MT), horizontal force (FH), and vertical force (FV) for RH-3CH-Sxx, RH-6CH6020-Sxx, and RH-6CH7020-Sxx.\\n\\nSection 2.2 covers mass capacity and tooling: eccentric loads impose restrictions; tooling must follow allowable inertia values (2.1.1). Cautions include alarms (vibration, overload, overcurrent) caused by speed or posture even within limits; proper parameter settings (mass, centroid) are crucial to prevent gear/belt wear. Mass capacity and allowable inertia are dynamic limits, not guarantees of accuracy. Long or low-rigid tooling may reduce accuracy or cause vibration. Allowable offset (Z direction) from shaft to center of gravity is 100 mm. Load deviation allowance is 150 mm, reduced to 10 mm in large inertia mode. Figures 2-1 to 2-3 show center of gravity for loads.\\n\\nSection 2.2.3 explains mass capacity, speed, and acceleration/deceleration: robot optimizes automatically based on load data (mass and size). Manual reduction of speed/accel may be required if vibration or overheating occurs. Wrong load settings shorten lifespan. For high accuracy, correct load input and reduced acceleration/deceleration are recommended. Parameters: \"HNDDAT*\" (hand), \"WRKDAT*\" (work), set with \"LoadSet\" command (default LoadSet 0.0). Factory defaults for hand mass, size, and center of gravity are given in a table.\n",
    "\"\"\"\n",
    "all_tokens = tokenizer.encode(text, add_special_tokens=False)"
   ]
  },
  {
   "cell_type": "code",
   "execution_count": 17,
   "id": "350d5bdf-f450-4bb4-b73e-c7456156c6d8",
   "metadata": {},
   "outputs": [
    {
     "data": {
      "text/plain": [
       "554"
      ]
     },
     "execution_count": 17,
     "metadata": {},
     "output_type": "execute_result"
    }
   ],
   "source": [
    "len(all_tokens)"
   ]
  },
  {
   "cell_type": "code",
   "execution_count": 12,
   "id": "7daaae04-7fe7-441f-92fb-98ec034a47e1",
   "metadata": {},
   "outputs": [
    {
     "data": {
      "text/plain": [
       "'\\nThe document provides technical specifications for different robot models (RH-6CH6020-S11/S15, RH-6CH7020-S11/S15, RH-6CH6020-S23/S24, RH-6CH7020-S23/S24). These specifications include allowable inertia (values in parentheses for large inertia mode), J3(Z) axis pressing force, maximum eccentricity (also with large inertia mode values), mass, tool wiring (15 points, D-SUB), tool pneumatic pipes (φ6 × 2, φ4 × 1), supply pressure (0.5±10% MPa), protection (IP20), ambient temperature (0 to 40 ℃), painting color (Light gray, Munsell 0.6B7.6/0.2), and machine cable length (5m).\\n\\nNotes clarify: Note 1 covers max speed with MvTune2 and no auto compensation. Note 3 explains cycle time under MvTune2, affected by accuracy needs and carrying mass per model. Note 4 specifies inertia values in parentheses are for large inertia mode. Note 5 defines J3(Z) axis pressing force and overload risks. Note 6 says eccentricity values in parentheses are for large inertia mode. Note 8 explains setting environmental temperature with parameter OLTMX for control and protection.\\n\\nSection 2.1.2 addresses counter-force on installation surface, listing falls moment (ML), torsion moment (MT), horizontal force (FH), and vertical force (FV) for RH-3CH-Sxx, RH-6CH6020-Sxx, and RH-6CH7020-Sxx.\\n\\nSection 2.2 covers mass capacity and tooling: eccentric loads impose restrictions; tooling must follow allowable inertia values (2.1.1). Cautions include alarms (vibration, overload, overcurrent) caused by speed or posture even within limits; proper parameter settings (mass, centroid) are crucial to prevent gear/belt wear. Mass capacity and allowable inertia are dynamic limits, not guarantees of accuracy. Long or low-rigid tooling may reduce accuracy or cause vibration. Allowable offset (Z direction) from shaft to center of gravity is 100 mm. Load deviation allowance is 150 mm, reduced to 10 mm in large inertia mode. Figures 2-1 to 2-3 show center of gravity for loads.\\n\\nSection 2.2.3 explains mass capacity, speed, and acceleration/deceleration: robot optimizes automatically based on load data (mass and size). Manual reduction of speed/accel may be required if vibration or overheating occurs. Wrong load settings shorten lifespan. For high accuracy, correct load input and reduced acceleration/deceleration are recommended. Parameters: \"HNDDAT*\" (hand), \"WRKDAT*\" (work), set with \"LoadSet\" command (default LoadSet 0.0). Factory defaults for hand mass, size, and center of gravity are given in a table.\\n'"
      ]
     },
     "execution_count": 12,
     "metadata": {},
     "output_type": "execute_result"
    }
   ],
   "source": [
    "text"
   ]
  },
  {
   "cell_type": "code",
   "execution_count": 18,
   "id": "fd945eb9-3662-4011-b920-bc18c9dbb695",
   "metadata": {},
   "outputs": [],
   "source": [
    "data_context[34] = text"
   ]
  },
  {
   "cell_type": "code",
   "execution_count": 19,
   "id": "12caa9a4-9f42-49fe-aa7d-d7e7a46e5faa",
   "metadata": {},
   "outputs": [],
   "source": [
    "import json\n",
    "json_file=json.dumps(data_context, indent=2)\n",
    "# Exporting data to output file for storage\n",
    "with open(context_path, mode='w+') as f_out:\n",
    "    f_out.write(json_file)"
   ]
  },
  {
   "cell_type": "code",
   "execution_count": null,
   "id": "afb74179-b1a1-4291-9e68-762b59e60d22",
   "metadata": {},
   "outputs": [],
   "source": []
  }
 ],
 "metadata": {
  "kernelspec": {
   "display_name": "Python 3 (ipykernel)",
   "language": "python",
   "name": "python3"
  },
  "language_info": {
   "codemirror_mode": {
    "name": "ipython",
    "version": 3
   },
   "file_extension": ".py",
   "mimetype": "text/x-python",
   "name": "python",
   "nbconvert_exporter": "python",
   "pygments_lexer": "ipython3",
   "version": "3.12.1"
  }
 },
 "nbformat": 4,
 "nbformat_minor": 5
}
