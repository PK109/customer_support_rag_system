{
 "cells": [
  {
   "cell_type": "markdown",
   "id": "16278001-1c1a-49fa-8ea4-7211f6141b39",
   "metadata": {},
   "source": [
    "%%capture\n",
    "!pip install pymupdf4llm"
   ]
  },
  {
   "cell_type": "code",
   "execution_count": 31,
   "id": "b9902c0d-9b45-4b65-a10c-a83945df902e",
   "metadata": {},
   "outputs": [],
   "source": [
    "import pymupdf, pymupdf4llm\n",
    "from pprint import pprint\n",
    "import pathlib\n",
    "from collections import deque"
   ]
  },
  {
   "cell_type": "code",
   "execution_count": null,
   "id": "6989ddb5-ac80-4bf6-9473-02691e0fb92b",
   "metadata": {},
   "outputs": [],
   "source": [
    "filename = \"data/bfp-a3447q.pdf\"\n",
    "image_path = \"data/images\"\n",
    "content_first_page = 13 # 0-based page number\n",
    "margins=(50,75)\n",
    "md = \"\"\n",
    "\n",
    "doc = pymupdf.open(filename)  # use a Document for subsequent processing\n",
    "my_headers = pymupdf4llm.TocHeaders(doc)  # use the table of contents for determining headers"
   ]
  },
  {
   "cell_type": "code",
   "execution_count": 3,
   "id": "acc4501c-c834-4c46-8eec-abb5f6bed7cc",
   "metadata": {},
   "outputs": [
    {
     "name": "stdout",
     "output_type": "stream",
     "text": [
      "Processing page no 139..."
     ]
    }
   ],
   "source": [
    "for page in doc[content_first_page : doc.page_count]:\n",
    "    print(f\"\\rProcessing page no {page.number+1}...\", end='')\n",
    "    clusters = page.cluster_drawings()\n",
    "    for bb in clusters:\n",
    "        page.draw_rect(bb, width=0.2)  # put extra border around detected graphics\n",
    "    md += pymupdf4llm.to_markdown(\n",
    "        doc,\n",
    "        pages=[page.number],\n",
    "        margins=margins,\n",
    "        hdr_info=my_headers,\n",
    "        write_images=True,\n",
    "        image_path = image_path,\n",
    "        force_text=False\n",
    "    )"
   ]
  },
  {
   "cell_type": "code",
   "execution_count": 4,
   "id": "bd08d4fd-7445-47ee-ad41-8a11a0235a2d",
   "metadata": {},
   "outputs": [
    {
     "data": {
      "text/plain": [
       "232255"
      ]
     },
     "execution_count": 4,
     "metadata": {},
     "output_type": "execute_result"
    }
   ],
   "source": [
    "len(md)"
   ]
  },
  {
   "cell_type": "code",
   "execution_count": 6,
   "id": "05c35d18-906e-4d55-b702-ed245b18d620",
   "metadata": {},
   "outputs": [
    {
     "data": {
      "text/plain": [
       "230370"
      ]
     },
     "execution_count": 6,
     "metadata": {},
     "output_type": "execute_result"
    }
   ],
   "source": [
    "import regex as re\n",
    "pattern = r\"\"\"[^a-zA-Z0-9!@#$%^&*()_\\-+=\\[\\]{}|;:'\",.<>/?\\\\`~ \\t\\n□△◇：±℃φ×Ω（）]\"\"\"\n",
    "anti_pattern = r\"\"\"[a-zA-Z0-9!@#$%^&*()_\\-+=\\[\\]{}|;:'\",.<>/?\\\\`~ \\t\\n□△◇：±℃φ×Ω（）]\"\"\"\n",
    "notes_pattern = r'Note (?=\\d\\))'\n",
    "cleaned = re.sub(pattern, \"\", md)\n",
    "cleaned = re.sub(notes_pattern, \" *Note \", cleaned)\n",
    "chaos = re.sub(anti_pattern, \"\", md)\n",
    "splitted = re.split(r'\\n(?=#)',cleaned)\n",
    "pathlib.Path(\"output.md\").write_bytes(cleaned.encode())"
   ]
  },
  {
   "cell_type": "code",
   "execution_count": 7,
   "id": "3b94c675-37e6-4766-8661-1de57573a0f6",
   "metadata": {},
   "outputs": [
    {
     "name": "stdout",
     "output_type": "stream",
     "text": [
      "Text: (1) Machine cable （Fixed type） found in document on index =50 on position 190\n",
      "Text: Appendix 1 ：Classification of functions using external input/output signals found in document on index =131 on position 14\n"
     ]
    }
   ],
   "source": [
    "#Manual correction for the missing chapters\n",
    "chapter_tuples = [\n",
    "    (\"(1) Machine cable （Fixed type）\", \"(1) Machine cable（Fixed type）\"),\n",
    "    (\"Appendix 1 ：Classification of functions using external input/output signals\" , \"Appendix 1 ： Classification of functions using external input/output signals\")\n",
    "]\n",
    "chapter_name = \"(1) Machine cable （Fixed type）\"\n",
    "chapter_toc_name=\"(1) Machine cable（Fixed type）\"\n",
    "for chapter_name, chapter_toc_name in chapter_tuples:\n",
    "    chapter_index = -1\n",
    "    for index, chunk in enumerate(splitted):\n",
    "        if chunk.find(chapter_name) > 10: # Chapter name, if found on the beginning of string, is not a correct one\n",
    "            print(f\"Text: {chapter_name} found in document on index ={index} on position {chunk.find(chapter_name)}\")\n",
    "            chapter = chunk\n",
    "            chapter_index = index\n",
    "            splitted.pop(index)\n",
    "            break\n",
    "    if chapter_index == -1:\n",
    "        print(f\"Text: {chapter_name} not found in document\")\n",
    "    else:\n",
    "        chapters = chapter.split(chapter_name,1)\n",
    "        chapters[-1] = chapter_toc_name + chapters[-1]\n",
    "        for chapter in chapters[::-1]:\n",
    "            splitted.insert(chapter_index,chapter)\n",
    "        \n",
    "    "
   ]
  },
  {
   "cell_type": "code",
   "execution_count": 8,
   "id": "94dd9fa9-ac8a-48cc-86fa-0b9e949120b2",
   "metadata": {},
   "outputs": [
    {
     "data": {
      "text/plain": [
       "8718"
      ]
     },
     "execution_count": 8,
     "metadata": {},
     "output_type": "execute_result"
    }
   ],
   "source": [
    "pathlib.Path(\"data/chaos.md\").write_bytes(chaos.encode())"
   ]
  },
  {
   "cell_type": "code",
   "execution_count": 9,
   "id": "79b148ea-4663-49a9-bde2-28a94ebdb0b5",
   "metadata": {},
   "outputs": [
    {
     "data": {
      "text/plain": [
       "133"
      ]
     },
     "execution_count": 9,
     "metadata": {},
     "output_type": "execute_result"
    }
   ],
   "source": [
    "len(splitted)"
   ]
  },
  {
   "cell_type": "code",
   "execution_count": 17,
   "id": "5ac01d92-8cd3-4104-84ba-7aa0f08267a4",
   "metadata": {},
   "outputs": [],
   "source": [
    "chunk_dict = { chunk.split('\\n',1)[0] : chunk for chunk in splitted}"
   ]
  },
  {
   "cell_type": "code",
   "execution_count": 16,
   "id": "16aef959-5d3c-44c6-b70f-466695e95544",
   "metadata": {},
   "outputs": [],
   "source": [
    "toc = doc.get_toc()"
   ]
  },
  {
   "cell_type": "code",
   "execution_count": 18,
   "id": "e561a7b6-f35e-489f-8db9-42fc989cc35b",
   "metadata": {},
   "outputs": [
    {
     "name": "stdout",
     "output_type": "stream",
     "text": [
      "Found 2 matches for (1) RH-3CH-Sxx\n",
      "Found 2 matches for 6 Safety\n",
      "Found finally 1 matches for (1) RH-3CH-Sxx\n",
      "Found finally 1 matches for 6 Safety\n"
     ]
    }
   ],
   "source": [
    "retries = []\n",
    "for chapter in toc:\n",
    "    title = chapter[1]\n",
    "    result = list(filter(lambda i: title in i[0], chunk_dict.items()))\n",
    "    if len(result) == 0:\n",
    "        print(f\"Found {len(result)} matches for {title}\")\n",
    "        \n",
    "    elif len(result) > 1:\n",
    "        retries.append(chapter)\n",
    "        print(f\"Found {len(result)} matches for {title}\")\n",
    "    else:\n",
    "        content = result[0][-1]\n",
    "        chapter.append(content)\n",
    "        chunk_dict.pop(result[0][0])\n",
    "\n",
    "for chapter in retries:\n",
    "    title = chapter[1]\n",
    "    result = list(filter(lambda i: title in i[0], chunk_dict.items()))\n",
    "    if len(result) == 0:\n",
    "        print(f\"Found {len(result)} matches for {title}\")\n",
    "        \n",
    "    elif len(result) > 1:\n",
    "        retries.append(title)\n",
    "        print(f\"Found {len(result)} matches for {title}\")\n",
    "    else:\n",
    "        print(f\"Found finally {len(result)} matches for {title}\")\n",
    "        content = result[0][-1]\n",
    "        chapter.append(content)\n",
    "        chunk_dict.pop(result[0][0])\n",
    "assert len(chunk_dict) == 0"
   ]
  },
  {
   "cell_type": "code",
   "execution_count": 19,
   "id": "695c514c-eb40-4d4b-b8e1-6ceb5507f31c",
   "metadata": {},
   "outputs": [
    {
     "data": {
      "text/plain": [
       "{}"
      ]
     },
     "execution_count": 19,
     "metadata": {},
     "output_type": "execute_result"
    }
   ],
   "source": [
    "chunk_dict"
   ]
  },
  {
   "cell_type": "code",
   "execution_count": 20,
   "id": "59b5b0a3-e9d7-4375-8068-1491029d52ed",
   "metadata": {},
   "outputs": [
    {
     "data": {
      "text/plain": [
       "[[1, '1 General configuration', 14, '# 1 General configuration\\n'],\n",
       " [2,\n",
       "  '1.1 Structural equipment',\n",
       "  14,\n",
       "  '## 1.1 Structural equipment\\n\\nStructural equipment consists of the following types.\\n'],\n",
       " [3,\n",
       "  '1.1.1 Standard structural equipment',\n",
       "  14,\n",
       "  '### 1.1.1 Standard structural equipment\\n\\nThe following items are enclosed as a standard.\\n(1) Robot arm\\n(2) Controller\\n(3) Machine cable\\n(4) Robot arm installation bolts\\n(5) Safety manual, CD-ROM (Instruction manual)\\n(6) Guarantee card\\n']]"
      ]
     },
     "execution_count": 20,
     "metadata": {},
     "output_type": "execute_result"
    }
   ],
   "source": [
    "toc[:3]"
   ]
  },
  {
   "cell_type": "code",
   "execution_count": 21,
   "id": "4445d446-3e2a-4284-9844-8f2f0731e7c3",
   "metadata": {},
   "outputs": [],
   "source": [
    "import json\n",
    "json_file=json.dumps(toc,indent=2)"
   ]
  },
  {
   "cell_type": "code",
   "execution_count": 24,
   "id": "e3df09d5-ef0a-4c08-8fb0-1c40f8bd345b",
   "metadata": {},
   "outputs": [
    {
     "data": {
      "text/plain": [
       "245730"
      ]
     },
     "execution_count": 24,
     "metadata": {},
     "output_type": "execute_result"
    }
   ],
   "source": [
    "pathlib.Path(\"data/structured_file.txt\").write_text(json_file)\n"
   ]
  },
  {
   "cell_type": "code",
   "execution_count": 33,
   "id": "a21eeb08-f997-4f27-9735-88209772bcd5",
   "metadata": {},
   "outputs": [
    {
     "data": {
      "text/plain": [
       "[[1, '1 General configuration', 14, '# 1 General configuration\\n'],\n",
       " [2,\n",
       "  '1.1 Structural equipment',\n",
       "  14,\n",
       "  '## 1.1 Structural equipment\\n\\nStructural equipment consists of the following types.\\n'],\n",
       " [3,\n",
       "  '1.1.1 Standard structural equipment',\n",
       "  14,\n",
       "  '### 1.1.1 Standard structural equipment\\n\\nThe following items are enclosed as a standard.\\n(1) Robot arm\\n(2) Controller\\n(3) Machine cable\\n(4) Robot arm installation bolts\\n(5) Safety manual, CD-ROM (Instruction manual)\\n(6) Guarantee card\\n']]"
      ]
     },
     "execution_count": 33,
     "metadata": {},
     "output_type": "execute_result"
    }
   ],
   "source": [
    "data[:3]"
   ]
  },
  {
   "cell_type": "code",
   "execution_count": 25,
   "id": "61be3b74-53eb-458c-a9af-a161d2b9f1fc",
   "metadata": {},
   "outputs": [],
   "source": [
    "json_read = pathlib.Path(\"data/structured_file.txt\").read_text()"
   ]
  },
  {
   "cell_type": "code",
   "execution_count": 26,
   "id": "7c7f94bd-e268-4ab4-a66e-95bcb6f27681",
   "metadata": {},
   "outputs": [],
   "source": [
    "data = json.loads(json_read)"
   ]
  },
  {
   "cell_type": "code",
   "execution_count": 34,
   "id": "2ecabfb0-d672-4254-85ba-2e79bac0b34a",
   "metadata": {},
   "outputs": [],
   "source": [
    "def build_hierarchy(flat_data):\n",
    "    root = []\n",
    "    stack = deque()  # stack to track current parent chain\n",
    "\n",
    "    for item in flat_data:\n",
    "        node = {\n",
    "            \"level\": item[0],\n",
    "            \"chapter\": item[1],\n",
    "            \"page\": item[2],\n",
    "            \"content\": item[3], \n",
    "            \"children\": []\n",
    "        }\n",
    "\n",
    "        # If stack is empty or current node is top-level\n",
    "        if not stack:\n",
    "            root.append(node)\n",
    "            stack.append(node)\n",
    "        else:\n",
    "            # Pop until we find a parent node with lower level\n",
    "            while stack and stack[-1][\"level\"] >= node[\"level\"]:\n",
    "                stack.pop()\n",
    "\n",
    "            if stack:\n",
    "                stack[-1][\"children\"].append(node)\n",
    "            else:\n",
    "                root.append(node)\n",
    "\n",
    "            stack.append(node)\n",
    "\n",
    "    return root\n"
   ]
  },
  {
   "cell_type": "code",
   "execution_count": 35,
   "id": "2f9170be-1dbb-4033-8e39-80904af13e52",
   "metadata": {},
   "outputs": [],
   "source": [
    "structured_data = build_hierarchy(data)"
   ]
  },
  {
   "cell_type": "code",
   "execution_count": 40,
   "id": "05c4c751-e403-4e2e-9356-72295abf1122",
   "metadata": {},
   "outputs": [],
   "source": [
    "def get_full_text(chapter):\n",
    "    texts = [chapter[\"content\"]]\n",
    "    for child in chapter.get(\"children\", []):\n",
    "        texts.append(get_full_text(child))\n",
    "    return \"\\n\".join(texts)"
   ]
  },
  {
   "cell_type": "code",
   "execution_count": 46,
   "id": "37b1239d-0e81-4d2b-a80f-2cc7001fd516",
   "metadata": {},
   "outputs": [
    {
     "name": "stdout",
     "output_type": "stream",
     "text": [
      "## 3.2 Names of each part\n",
      "\n",
      "### 3.2.1 Controller\n",
      "\n",
      "Controller (Front side)\n",
      "\n",
      "|<4> <15> <9> <10> <7> nt side)|Col2|Col3|Col4|Col5|Col6|\n",
      "|---|---|---|---|---|---|\n",
      "|<4><br><15><br><9><br><10><br><7>|<4><br><15><br><9><br><10><br><7>|<4><br><15><br><9><br><10><br><7>|<4><br><15><br><9><br><10><br><7>|<4><br><15><br><9><br><10><br><7>|<4><br><15><br><9><br><10><br><7>|\n",
      "|||||||\n",
      "|||||||\n",
      "|||||||\n",
      "|<3><br><5><br><6> <14> <13> <12><11><br><8>|<3><br><5><br><6> <14> <13> <12><11><br><8>|<3><br><5><br><6> <14> <13> <12><11><br><8>|<3><br><5><br><6> <14> <13> <12><11><br><8>|<3><br><5><br><6> <14> <13> <12><11><br><8>|<3><br><5><br><6> <14> <13> <12><11><br><8>|\n",
      "\n",
      "\n",
      "![](data/images/bfp-a3447q.pdf-59-2.png)\n",
      "\n",
      "\n",
      "Controller (Rear side)\n",
      "\n",
      "![](data/images/bfp-a3447q.pdf-59-3.png)\n",
      "\n",
      "\n",
      "Fig.3-1 ：Names of controller parts (CR751)\n",
      "\n",
      "\n",
      "<1> ACIN connector.......................................The connector for AC power source (single phase, 200 VAC) input. (a\n",
      "socket housing and a terminal are attached).\n",
      "Refer to the separate volume \"Controller Setup, Basic Operation and\n",
      "Maintenance\" for how to connect a power cable.\n",
      "<2> PE terminal ................................................The screw for grounding of the cable. (2 M4 screws)\n",
      "<3> POWER lamp.............................................Lamp of control power source\n",
      "<4> Machine cable connector (for motor power supply)\n",
      "AMP1, AMP2: Motor power supply, BRK: Motor brake\n",
      "<5> Machine cable connector (for motor signal)\n",
      "CN2: Motor signal\n",
      "<6> T/B connection connector (TB).......This is a dedicated connector for connecting the R33TB. When not using T/\n",
      "B, connect the attached dummy plug.\n",
      "<7> Filter cover ................................................There is an air filter and buttery inside this cover.\n",
      "<8> CNUSR connector ..................................The connector for input/ output connection dedicated for robot.\n",
      "(CNUSR1, CNUSR2) (a plug connector attached)\n",
      "Refer to the separate volume \"Controller Setup, Basic Operation and\n",
      "Maintenance\" for the connection method and thefurther description of pin\n",
      "assign.\n",
      "<9> Grounding terminal .................................The grounding terminal for connecting cables of option card. (2 M3 screws)\n",
      "<10> Power supply charge lamp (CRARGE)\n",
      "The lamp is to ensure safe timing (prevent electric shocks) when removing\n",
      "the cover (users are not normally required to remove the cover).\n",
      "This lamp is illuminated (red) when electrical energy accumulates on the\n",
      "\n",
      "\n",
      "After turning the control power OFF and allowing a few minutes to pass,\n",
      "the lamp will go out.\n",
      "<11> USB connecting connector (USB) For USB connection\n",
      "<12> LAN connector (LAN).........................For LAN connection\n",
      "<13> ExtOPT connector (ExtOPT)..........Connect the cable for addition axis control.\n",
      "<14> RIO connector (RIO)...........................Connect the extension parallel input/output unit.\n",
      "<15> Option slot...............................................Install the interface optional. (Install the cover, when not using.)\n",
      "(SLOT1, SLOT2)\n",
      "\n",
      "\n",
      "\n",
      "Caution\n",
      "\n",
      "\n",
      "\n",
      "Use the network equipments (personal computer, USB hub, LAN hub, etc) confirmed by\n",
      "manufacturer. The thing unsuitable for the FA environment (related with conformity,\n",
      "temperature or noise) exists in the equipments connected to USB. When using network\n",
      "equipment, measures against the noise, such as measures against EMI and\n",
      "\n",
      "the addition of the ferrite core, may be necessary. Please fully confirm the operation by\n",
      "customer. Guarantee and maintenance of the equipment on the market (usual office\n",
      "automation equipment) cannot be performed.\n",
      "\n",
      "\n"
     ]
    }
   ],
   "source": [
    "print(get_full_text(structured_data[2]['children'][1]))"
   ]
  },
  {
   "cell_type": "code",
   "execution_count": null,
   "id": "1cff2f79-1cc4-438a-af69-5273ef6e2734",
   "metadata": {},
   "outputs": [],
   "source": []
  }
 ],
 "metadata": {
  "kernelspec": {
   "display_name": "Python 3 (ipykernel)",
   "language": "python",
   "name": "python3"
  },
  "language_info": {
   "codemirror_mode": {
    "name": "ipython",
    "version": 3
   },
   "file_extension": ".py",
   "mimetype": "text/x-python",
   "name": "python",
   "nbconvert_exporter": "python",
   "pygments_lexer": "ipython3",
   "version": "3.12.1"
  }
 },
 "nbformat": 4,
 "nbformat_minor": 5
}
