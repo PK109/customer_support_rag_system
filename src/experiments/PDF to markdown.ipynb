{
 "cells": [
  {
   "cell_type": "markdown",
   "id": "16278001-1c1a-49fa-8ea4-7211f6141b39",
   "metadata": {},
   "source": [
    "%%capture\n",
    "!pip install pymupdf4llm"
   ]
  },
  {
   "cell_type": "code",
   "execution_count": 1,
   "id": "b9902c0d-9b45-4b65-a10c-a83945df902e",
   "metadata": {},
   "outputs": [],
   "source": [
    "import pymupdf, pymupdf4llm\n",
    "from pprint import pprint\n",
    "import pathlib\n",
    "from collections import deque"
   ]
  },
  {
   "cell_type": "code",
   "execution_count": 7,
   "id": "6989ddb5-ac80-4bf6-9473-02691e0fb92b",
   "metadata": {},
   "outputs": [],
   "source": [
    "input_filename = \"data/bfp-a3447q.pdf\"\n",
    "output_filename= input_filename.split('.')[0]+'.txt'\n",
    "image_path = \"data/images\"\n",
    "margins=(50,75)\n",
    "md = \"\"\n",
    "\n",
    "doc = pymupdf.open(input_filename)  # use a Document for subsequent processing\n",
    "my_headers = pymupdf4llm.TocHeaders(doc)  # use the table of contents for determining headers\n",
    "content_first_page = doc.get_toc()[0][-1] -1 # 0-based page number\n"
   ]
  },
  {
   "cell_type": "code",
   "execution_count": 3,
   "id": "beab3680-0c23-49f9-9009-1f4c7c657208",
   "metadata": {},
   "outputs": [
    {
     "data": {
      "text/plain": [
       "{'format': 'PDF 1.7',\n",
       " 'title': 'RH-3CH-Sxx/RH-6CH-Sxx Special Specifications Manual',\n",
       " 'author': 'Mitsubishi Electric Corporation',\n",
       " 'subject': 'BFP-A3447-Q',\n",
       " 'keywords': 'RH-3CH; RH-6CH',\n",
       " 'creator': 'FrameMaker 2015.0.5',\n",
       " 'producer': 'Acrobat Distiller 23.0 (Windows)',\n",
       " 'creationDate': \"D:20230404144342+09'00'\",\n",
       " 'modDate': \"D:20230404144546+09'00'\",\n",
       " 'trapped': '',\n",
       " 'encryption': None}"
      ]
     },
     "execution_count": 3,
     "metadata": {},
     "output_type": "execute_result"
    }
   ],
   "source": [
    "doc.metadata"
   ]
  },
  {
   "cell_type": "code",
   "execution_count": 3,
   "id": "acc4501c-c834-4c46-8eec-abb5f6bed7cc",
   "metadata": {},
   "outputs": [
    {
     "name": "stdout",
     "output_type": "stream",
     "text": [
      "Processing page no 140..."
     ]
    }
   ],
   "source": [
    "for page in doc[content_first_page : doc.page_count]:\n",
    "    print(f\"\\rProcessing page no {page.number+1}...\", end='')\n",
    "    clusters = page.cluster_drawings()\n",
    "    for bb in clusters:\n",
    "        page.draw_rect(bb, width=0.2)  # put extra border around detected graphics\n",
    "    md += pymupdf4llm.to_markdown(\n",
    "        doc,\n",
    "        pages=[page.number],\n",
    "        margins=margins,\n",
    "        hdr_info=my_headers,\n",
    "        write_images=True,\n",
    "        image_path = image_path,\n",
    "        force_text=False\n",
    "    )"
   ]
  },
  {
   "cell_type": "code",
   "execution_count": 4,
   "id": "bd08d4fd-7445-47ee-ad41-8a11a0235a2d",
   "metadata": {},
   "outputs": [
    {
     "data": {
      "text/plain": [
       "232255"
      ]
     },
     "execution_count": 4,
     "metadata": {},
     "output_type": "execute_result"
    }
   ],
   "source": [
    "len(md)"
   ]
  },
  {
   "cell_type": "code",
   "execution_count": 4,
   "id": "05c35d18-906e-4d55-b702-ed245b18d620",
   "metadata": {},
   "outputs": [
    {
     "data": {
      "text/plain": [
       "229695"
      ]
     },
     "execution_count": 4,
     "metadata": {},
     "output_type": "execute_result"
    }
   ],
   "source": [
    "import regex as re\n",
    "pattern = r\"\"\"[^a-zA-Z0-9!@#$%^&*()_\\-+=\\[\\]{}|;:'\",.<>/?\\\\`~ \\t\\n□△◇：±℃φ×Ω（）]\"\"\"\n",
    "anti_pattern = r\"\"\"[a-zA-Z0-9!@#$%^&*()_\\-+=\\[\\]{}|;:'\",.<>/?\\\\`~ \\t\\n□△◇：±℃φ×Ω（）]\"\"\"\n",
    "notes_pattern = r'Note (?=\\d\\))'\n",
    "cleaned = re.sub(pattern, \"\", md)\n",
    "cleaned = re.sub(notes_pattern, \" *Note \", cleaned)\n",
    "chaos = re.sub(anti_pattern, \"\", md)\n",
    "splitted = re.split(r'\\n(?=#)',cleaned)\n",
    "splitted = [re.sub(r'^#+\\s','',text) for text in splitted]\n",
    "pathlib.Path(\"output.md\").write_text(cleaned)"
   ]
  },
  {
   "cell_type": "code",
   "execution_count": 5,
   "id": "fb175bd0-fd76-4ba5-b0c1-51425d4cd1de",
   "metadata": {},
   "outputs": [
    {
     "data": {
      "text/plain": [
       "'1.1.2 Special specifications\\n\\nFor the special specifications, some standard configuration equipment and specifications have to be changed\\nbefore factory shipping. Confirm the delivery date and specify the special specifications at the order.\\n'"
      ]
     },
     "execution_count": 5,
     "metadata": {},
     "output_type": "execute_result"
    }
   ],
   "source": [
    "splitted[3]"
   ]
  },
  {
   "cell_type": "code",
   "execution_count": 6,
   "id": "3b94c675-37e6-4766-8661-1de57573a0f6",
   "metadata": {},
   "outputs": [
    {
     "name": "stdout",
     "output_type": "stream",
     "text": [
      "Text: (1) Machine cable （Fixed type） found in document on index= 50 on position 187\n",
      "Text: Appendix 1 ：Classification of functions using external input/output signals found in document on index= 131 on position 12\n"
     ]
    }
   ],
   "source": [
    "#Manual correction for the missing chapters\n",
    "chapter_tuples = [\n",
    "    (\"(1) Machine cable （Fixed type）\", \"(1) Machine cable（Fixed type）\"),\n",
    "    (\"Appendix 1 ：Classification of functions using external input/output signals\" , \"Appendix 1 ： Classification of functions using external input/output signals\")\n",
    "]\n",
    "chapter_name = \"(1) Machine cable （Fixed type）\"\n",
    "chapter_toc_name=\"(1) Machine cable（Fixed type）\"\n",
    "for chapter_name, chapter_toc_name in chapter_tuples:\n",
    "    chapter_index = -1\n",
    "    for index, chunk in enumerate(splitted):\n",
    "        if chunk.find(chapter_name) > 10: # Chapter name, if found on the beginning of string, is not a correct one\n",
    "            print(f\"Text: {chapter_name} found in document on index= {index} on position {chunk.find(chapter_name)}\")\n",
    "            chapter = chunk\n",
    "            chapter_index = index\n",
    "            splitted.pop(index)\n",
    "            break\n",
    "    if chapter_index == -1:\n",
    "        print(f\"Text: {chapter_name} not found in document\")\n",
    "    else:\n",
    "        chapters = chapter.split(chapter_name,1)\n",
    "        chapters[-1] = chapter_toc_name + chapters[-1]\n",
    "        for chapter in chapters[::-1]:\n",
    "            splitted.insert(chapter_index,chapter)\n",
    "        \n",
    "    "
   ]
  },
  {
   "cell_type": "code",
   "execution_count": 8,
   "id": "94dd9fa9-ac8a-48cc-86fa-0b9e949120b2",
   "metadata": {},
   "outputs": [
    {
     "data": {
      "text/plain": [
       "8718"
      ]
     },
     "execution_count": 8,
     "metadata": {},
     "output_type": "execute_result"
    }
   ],
   "source": [
    "pathlib.Path(\"data/chaos.md\").write_bytes(chaos.encode())"
   ]
  },
  {
   "cell_type": "code",
   "execution_count": 7,
   "id": "79b148ea-4663-49a9-bde2-28a94ebdb0b5",
   "metadata": {},
   "outputs": [
    {
     "data": {
      "text/plain": [
       "133"
      ]
     },
     "execution_count": 7,
     "metadata": {},
     "output_type": "execute_result"
    }
   ],
   "source": [
    "len(splitted)"
   ]
  },
  {
   "cell_type": "code",
   "execution_count": 8,
   "id": "5ac01d92-8cd3-4104-84ba-7aa0f08267a4",
   "metadata": {},
   "outputs": [],
   "source": [
    "chunk_dict = { chunk.split('\\n',1)[0] : chunk for chunk in splitted}"
   ]
  },
  {
   "cell_type": "code",
   "execution_count": 9,
   "id": "16aef959-5d3c-44c6-b70f-466695e95544",
   "metadata": {},
   "outputs": [],
   "source": [
    "toc = doc.get_toc()"
   ]
  },
  {
   "cell_type": "code",
   "execution_count": 10,
   "id": "e561a7b6-f35e-489f-8db9-42fc989cc35b",
   "metadata": {},
   "outputs": [
    {
     "name": "stdout",
     "output_type": "stream",
     "text": [
      "Found 2 matches for (1) RH-3CH-Sxx\n",
      "Found 2 matches for 6 Safety\n",
      "Found finally 1 matches for (1) RH-3CH-Sxx\n",
      "Found finally 1 matches for 6 Safety\n"
     ]
    }
   ],
   "source": [
    "retries = []\n",
    "for chapter in toc:\n",
    "    title = chapter[1]\n",
    "    result = list(filter(lambda i: title in i[0], chunk_dict.items()))\n",
    "    if len(result) == 0:\n",
    "        print(f\"Found {len(result)} matches for {title}\")\n",
    "        \n",
    "    elif len(result) > 1:\n",
    "        retries.append(chapter)\n",
    "        print(f\"Found {len(result)} matches for {title}\")\n",
    "    else:\n",
    "        content = result[0][-1]\n",
    "        chapter.append(content)\n",
    "        chunk_dict.pop(result[0][0])\n",
    "\n",
    "for chapter in retries:\n",
    "    title = chapter[1]\n",
    "    result = list(filter(lambda i: title in i[0], chunk_dict.items()))\n",
    "    if len(result) == 0:\n",
    "        print(f\"Found {len(result)} matches for {title}\")\n",
    "        \n",
    "    elif len(result) > 1:\n",
    "        retries.append(title)\n",
    "        print(f\"Found {len(result)} matches for {title}\")\n",
    "    else:\n",
    "        print(f\"Found finally {len(result)} matches for {title}\")\n",
    "        content = result[0][-1]\n",
    "        chapter.append(content)\n",
    "        chunk_dict.pop(result[0][0])\n",
    "assert len(chunk_dict) == 0"
   ]
  },
  {
   "cell_type": "code",
   "execution_count": 16,
   "id": "695c514c-eb40-4d4b-b8e1-6ceb5507f31c",
   "metadata": {},
   "outputs": [
    {
     "data": {
      "text/plain": [
       "{}"
      ]
     },
     "execution_count": 16,
     "metadata": {},
     "output_type": "execute_result"
    }
   ],
   "source": [
    "chunk_dict"
   ]
  },
  {
   "cell_type": "code",
   "execution_count": 12,
   "id": "59b5b0a3-e9d7-4375-8068-1491029d52ed",
   "metadata": {},
   "outputs": [
    {
     "data": {
      "text/plain": [
       "[[1, '1 General configuration', 14, '1 General configuration\\n'],\n",
       " [2,\n",
       "  '1.1 Structural equipment',\n",
       "  14,\n",
       "  '1.1 Structural equipment\\n\\nStructural equipment consists of the following types.\\n'],\n",
       " [3,\n",
       "  '1.1.1 Standard structural equipment',\n",
       "  14,\n",
       "  '1.1.1 Standard structural equipment\\n\\nThe following items are enclosed as a standard.\\n(1) Robot arm\\n(2) Controller\\n(3) Machine cable\\n(4) Robot arm installation bolts\\n(5) Safety manual, CD-ROM (Instruction manual)\\n(6) Guarantee card\\n'],\n",
       " [3,\n",
       "  '1.1.2 Special specifications',\n",
       "  14,\n",
       "  '1.1.2 Special specifications\\n\\nFor the special specifications, some standard configuration equipment and specifications have to be changed\\nbefore factory shipping. Confirm the delivery date and specify the special specifications at the order.\\n']]"
      ]
     },
     "execution_count": 12,
     "metadata": {},
     "output_type": "execute_result"
    }
   ],
   "source": [
    "toc[:4]"
   ]
  },
  {
   "cell_type": "code",
   "execution_count": 17,
   "id": "4445d446-3e2a-4284-9844-8f2f0731e7c3",
   "metadata": {},
   "outputs": [],
   "source": [
    "import json\n",
    "json_file=json.dumps(toc,indent=2)"
   ]
  },
  {
   "cell_type": "code",
   "execution_count": 21,
   "id": "e3df09d5-ef0a-4c08-8fb0-1c40f8bd345b",
   "metadata": {},
   "outputs": [],
   "source": [
    "# Exporting file data to output file for storage\n",
    "with open(output_filename, mode='w+') as f_out:\n",
    "    f_out.write(json_file)"
   ]
  }
 ],
 "metadata": {
  "kernelspec": {
   "display_name": "Python 3 (ipykernel)",
   "language": "python",
   "name": "python3"
  },
  "language_info": {
   "codemirror_mode": {
    "name": "ipython",
    "version": 3
   },
   "file_extension": ".py",
   "mimetype": "text/x-python",
   "name": "python",
   "nbconvert_exporter": "python",
   "pygments_lexer": "ipython3",
   "version": "3.12.1"
  }
 },
 "nbformat": 4,
 "nbformat_minor": 5
}
