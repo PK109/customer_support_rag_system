{
 "cells": [
  {
   "cell_type": "markdown",
   "id": "0",
   "metadata": {},
   "source": [
    "%%capture\n",
    "!pip install pymupdf4llm"
   ]
  },
  {
   "cell_type": "code",
   "execution_count": null,
   "id": "1",
   "metadata": {},
   "outputs": [],
   "source": [
    "import pymupdf, pymupdf4llm\n",
    "from pprint import pprint\n",
    "import pathlib\n",
    "from collections import deque"
   ]
  },
  {
   "cell_type": "code",
   "execution_count": null,
   "id": "2",
   "metadata": {},
   "outputs": [],
   "source": [
    "input_filename = \"data/bfp-a3447q.pdf\"\n",
    "output_filename= input_filename.split('.')[0]+'.txt'\n",
    "image_path = \"data/images\"\n",
    "margins=(50,75)\n",
    "md = \"\"\n",
    "\n",
    "doc = pymupdf.open(input_filename)  # use a Document for subsequent processing\n",
    "my_headers = pymupdf4llm.TocHeaders(doc=doc )  # use the table of contents for determining headers\n",
    "content_first_page = doc.get_toc()[0][-1] -1 # 0-based page number\n"
   ]
  },
  {
   "cell_type": "code",
   "execution_count": null,
   "id": "3",
   "metadata": {},
   "outputs": [],
   "source": [
    "doc.metadata"
   ]
  },
  {
   "cell_type": "code",
   "execution_count": null,
   "id": "4",
   "metadata": {},
   "outputs": [],
   "source": [
    "for page in doc[content_first_page : doc.page_count]:\n",
    "    print(f\"\\rProcessing page no {page.number+1}...\", end='')\n",
    "    clusters = page.cluster_drawings()\n",
    "    for bb in clusters:\n",
    "        page.draw_rect(bb, width=0.2)  # put extra border around detected graphics\n",
    "    md += pymupdf4llm.to_markdown(\n",
    "        doc,\n",
    "        pages=[page.number],\n",
    "        margins=margins,\n",
    "        hdr_info=my_headers,\n",
    "        write_images=True,\n",
    "        image_path = image_path,\n",
    "        force_text=False\n",
    "    )"
   ]
  },
  {
   "cell_type": "code",
   "execution_count": null,
   "id": "5",
   "metadata": {},
   "outputs": [],
   "source": [
    "len(md)"
   ]
  },
  {
   "cell_type": "code",
   "execution_count": null,
   "id": "6",
   "metadata": {},
   "outputs": [],
   "source": [
    "import regex as re\n",
    "pattern = r\"\"\"[^a-zA-Z0-9!@#$%^&*()_\\-+=\\[\\]{}|;:'\",.<>/?\\\\`~ \\t\\n□△◇：±℃φ×Ω（）]\"\"\"\n",
    "anti_pattern = r\"\"\"[a-zA-Z0-9!@#$%^&*()_\\-+=\\[\\]{}|;:'\",.<>/?\\\\`~ \\t\\n□△◇：±℃φ×Ω（）]\"\"\"\n",
    "notes_pattern = r'Note (?=\\d\\))'\n",
    "cleaned = re.sub(pattern, \"\", md)\n",
    "cleaned = re.sub(notes_pattern, \" *Note \", cleaned)\n",
    "chaos = re.sub(anti_pattern, \"\", md)\n",
    "splitted = re.split(r'\\n(?=#)',cleaned)\n",
    "splitted = [re.sub(r'^#+\\s','',text) for text in splitted]\n",
    "pathlib.Path(\"output.md\").write_text(cleaned)"
   ]
  },
  {
   "cell_type": "code",
   "execution_count": null,
   "id": "7",
   "metadata": {},
   "outputs": [],
   "source": [
    "splitted[3]"
   ]
  },
  {
   "cell_type": "code",
   "execution_count": null,
   "id": "8",
   "metadata": {},
   "outputs": [],
   "source": [
    "#Manual correction for the missing chapters\n",
    "chapter_tuples = [\n",
    "    (\"(1) Machine cable （Fixed type）\", \"(1) Machine cable（Fixed type）\"),\n",
    "    (\"Appendix 1 ：Classification of functions using external input/output signals\" , \"Appendix 1 ： Classification of functions using external input/output signals\")\n",
    "]\n",
    "chapter_name = \"(1) Machine cable （Fixed type）\"\n",
    "chapter_toc_name=\"(1) Machine cable（Fixed type）\"\n",
    "for chapter_name, chapter_toc_name in chapter_tuples:\n",
    "    chapter_index = -1\n",
    "    for index, chunk in enumerate(splitted):\n",
    "        if chunk.find(chapter_name) > 10: # Chapter name, if found on the beginning of string, is not a correct one\n",
    "            print(f\"Text: {chapter_name} found in document on index= {index} on position {chunk.find(chapter_name)}\")\n",
    "            chapter = chunk\n",
    "            chapter_index = index\n",
    "            splitted.pop(index)\n",
    "            break\n",
    "    if chapter_index == -1:\n",
    "        print(f\"Text: {chapter_name} not found in document\")\n",
    "    else:\n",
    "        chapters = chapter.split(chapter_name,1)\n",
    "        chapters[-1] = chapter_toc_name + chapters[-1]\n",
    "        for chapter in chapters[::-1]:\n",
    "            splitted.insert(chapter_index,chapter)\n",
    "        \n",
    "    "
   ]
  },
  {
   "cell_type": "code",
   "execution_count": null,
   "id": "9",
   "metadata": {},
   "outputs": [],
   "source": [
    "pathlib.Path(\"data/chaos.md\").write_bytes(chaos.encode())"
   ]
  },
  {
   "cell_type": "code",
   "execution_count": null,
   "id": "10",
   "metadata": {},
   "outputs": [],
   "source": [
    "len(splitted)"
   ]
  },
  {
   "cell_type": "code",
   "execution_count": null,
   "id": "11",
   "metadata": {},
   "outputs": [],
   "source": [
    "chunk_dict = { chunk.split('\\n',1)[0] : chunk for chunk in splitted}"
   ]
  },
  {
   "cell_type": "code",
   "execution_count": null,
   "id": "12",
   "metadata": {},
   "outputs": [],
   "source": [
    "toc = doc.get_toc()"
   ]
  },
  {
   "cell_type": "code",
   "execution_count": null,
   "id": "13",
   "metadata": {},
   "outputs": [],
   "source": [
    "retries = []\n",
    "for chapter in toc:\n",
    "    title = chapter[1]\n",
    "    result = list(filter(lambda i: title in i[0], chunk_dict.items()))\n",
    "    if len(result) == 0:\n",
    "        print(f\"Found {len(result)} matches for {title}\")\n",
    "        \n",
    "    elif len(result) > 1:\n",
    "        retries.append(chapter)\n",
    "        print(f\"Found {len(result)} matches for {title}\")\n",
    "    else:\n",
    "        content = result[0][-1]\n",
    "        chapter.append(content)\n",
    "        chunk_dict.pop(result[0][0])\n",
    "\n",
    "for chapter in retries:\n",
    "    title = chapter[1]\n",
    "    result = list(filter(lambda i: title in i[0], chunk_dict.items()))\n",
    "    if len(result) == 0:\n",
    "        print(f\"Found {len(result)} matches for {title}\")\n",
    "        \n",
    "    elif len(result) > 1:\n",
    "        retries.append(title)\n",
    "        print(f\"Found {len(result)} matches for {title}\")\n",
    "    else:\n",
    "        print(f\"Found finally {len(result)} matches for {title}\")\n",
    "        content = result[0][-1]\n",
    "        chapter.append(content)\n",
    "        chunk_dict.pop(result[0][0])\n",
    "assert len(chunk_dict) == 0"
   ]
  }
 ],
 "metadata": {
  "kernelspec": {
   "display_name": "Python 3 (ipykernel)",
   "language": "python",
   "name": "python3"
  },
  "language_info": {
   "codemirror_mode": {
    "name": "ipython",
    "version": 3
   },
   "file_extension": ".py",
   "mimetype": "text/x-python",
   "name": "python",
   "nbconvert_exporter": "python",
   "pygments_lexer": "ipython3",
   "version": "3.12.1"
  }
 },
 "nbformat": 4,
 "nbformat_minor": 5
}
