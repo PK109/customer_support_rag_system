{
 "cells": [
  {
   "cell_type": "code",
   "execution_count": null,
   "id": "0",
   "metadata": {},
   "outputs": [],
   "source": [
    "from openai import OpenAI\n",
    "import pathlib, toml, os\n",
    "import yaml, json\n",
    "from qdrant_client import QdrantClient, models\n",
    "from sentence_transformers import SentenceTransformer\n",
    "from jinja2 import Template"
   ]
  },
  {
   "cell_type": "code",
   "execution_count": null,
   "id": "1",
   "metadata": {},
   "outputs": [],
   "source": [
    "config = toml.load(\"../../.streamlit/secrets.toml\")\n",
    "os.environ[\"OPENAI_API_KEY\"] = config[\"openai\"][\"OPENAI_API_KEY\"]"
   ]
  },
  {
   "cell_type": "code",
   "execution_count": null,
   "id": "2",
   "metadata": {},
   "outputs": [],
   "source": [
    "qd_client = QdrantClient(\"http://localhost:6333\") #connecting to local Qdrant instance"
   ]
  },
  {
   "cell_type": "code",
   "execution_count": null,
   "id": "3",
   "metadata": {},
   "outputs": [],
   "source": [
    "llm_client = OpenAI()"
   ]
  },
  {
   "cell_type": "code",
   "execution_count": null,
   "id": "4",
   "metadata": {},
   "outputs": [],
   "source": [
    "model_name = 'all-mpnet-base-v2'\n",
    "\n",
    "model = SentenceTransformer(\n",
    "    model_name, \n",
    "    trust_remote_code=True,\n",
    "    cache_folder=\"./models\"   # explicitly setting cache location\n",
    ")\n",
    "emb_dimensions = model.get_sentence_embedding_dimension()"
   ]
  },
  {
   "cell_type": "code",
   "execution_count": null,
   "id": "5",
   "metadata": {},
   "outputs": [],
   "source": [
    "history_storage = 'data/query_history.jsonl'\n",
    "collection_name = \"bfp-a3447q_v2\""
   ]
  },
  {
   "cell_type": "code",
   "execution_count": null,
   "id": "6",
   "metadata": {},
   "outputs": [],
   "source": [
    "def search(query, limit=1):\n",
    "\n",
    "    results = qd_client.query_points(\n",
    "        collection_name=collection_name,\n",
    "        query=model.encode(query).tolist(),\n",
    "        limit=limit, # top closest matches\n",
    "        with_payload=True #to get metadata in the results\n",
    "    )\n",
    "\n",
    "    return results"
   ]
  },
  {
   "cell_type": "code",
   "execution_count": null,
   "id": "7",
   "metadata": {},
   "outputs": [],
   "source": [
    "def search_with_history(query, limit=1, history_storage = history_storage):\n",
    "\n",
    "    results = qd_client.query_points(\n",
    "        collection_name=collection_name,\n",
    "        query=model.encode(query).tolist(),\n",
    "        limit=limit, # top closest matches\n",
    "        with_payload=True #to get metadata in the results\n",
    "    )\n",
    "    record = {}\n",
    "    record['query']= query\n",
    "    record['ground_truth_points']=[]\n",
    "    record['limit']= limit\n",
    "    record['result_points_scores']=[(point.id, point.score) for point in results.points]\n",
    "    # Append without reading the whole file\n",
    "    with open(history_storage, \"a+\") as f:\n",
    "        f.write(json.dumps(record) + \"\\n\")\n",
    "\n",
    "    return results"
   ]
  },
  {
   "cell_type": "code",
   "execution_count": null,
   "id": "8",
   "metadata": {},
   "outputs": [],
   "source": [
    "class PromptLoader:\n",
    "    def __init__(self, path: str = \"prompts.yaml\"):\n",
    "        with open(path, \"r\", encoding=\"utf-8\") as f:\n",
    "            self.prompts = yaml.safe_load(f)\n",
    "\n",
    "    def render(self, name: str, **kwargs) -> str:\n",
    "        \"\"\"Render a named prompt with given variables.\"\"\"\n",
    "        template = Template(self.prompts[name])\n",
    "        return template.render(**kwargs)"
   ]
  },
  {
   "cell_type": "raw",
   "id": "9",
   "metadata": {},
   "source": [
    "loader = PromptLoader(\"data/prompts.yaml\")\n",
    "prompt = loader.render(\n",
    "    \"assistant_prompt\",\n",
    "    query=\">>This is the main query text.<<\",\n",
    "    context=\">>This is the context text.<<\"\n",
    ")\n",
    "print(prompt)"
   ]
  },
  {
   "cell_type": "code",
   "execution_count": null,
   "id": "10",
   "metadata": {},
   "outputs": [],
   "source": [
    "def build_prompt(query, search_results):\n",
    "    loader = PromptLoader(\"data/prompts.yaml\")\n",
    "    context = \"\"\n",
    "    for index, payload in enumerate(search_results):\n",
    "        context += f\"{index}) Manual:\\t{payload.payload['manual']},\\nMain Chapter:\\t{payload.payload['main_chapter']}\\nChapter:\\t{payload.payload['chapter']}\\nContent: {payload.payload['content']}\\n\\n\"\n",
    "    return loader.render(\n",
    "        \"assistant_prompt\",\n",
    "        query=query,\n",
    "        context=context\n",
    "    )"
   ]
  },
  {
   "cell_type": "code",
   "execution_count": null,
   "id": "11",
   "metadata": {},
   "outputs": [],
   "source": [
    "def refine_query(query):\n",
    "    loader = PromptLoader(\"data/prompts.yaml\")\n",
    "    return loader.render(\n",
    "        \"refine_query\",\n",
    "        query=query\n",
    "    )"
   ]
  },
  {
   "cell_type": "code",
   "execution_count": null,
   "id": "12",
   "metadata": {},
   "outputs": [],
   "source": [
    "def llm(client, prompt, model='gpt-4.1-mini'):\n",
    "    response = client.chat.completions.create(\n",
    "        model=model,\n",
    "        messages=[{'role': 'user', 'content': prompt }]\n",
    "    )\n",
    "    return response.choices[0].message.content"
   ]
  },
  {
   "cell_type": "code",
   "execution_count": null,
   "id": "13",
   "metadata": {},
   "outputs": [],
   "source": [
    "def rag(query, verbose_search= False, verbose_prompt = False):\n",
    "    # llm_query = llm(llm_client,refine_query(query=query))\n",
    "    llm_query = \"What is the specific name of the connector used for connecting a power supply?\"\n",
    "    search_set = set()\n",
    "    search_results = []\n",
    "    queries = []\n",
    "    queries.append(query)\n",
    "    queries.append(llm_query)\n",
    "    for q in queries:\n",
    "        print(\"Query: \",q)\n",
    "        results = search(q, 10)\n",
    "        result_ids = set([p.id for p in results.points])\n",
    "        unique_ids = result_ids - search_set\n",
    "        for result in results.points:\n",
    "            if result.id in unique_ids:\n",
    "                search_results.append(result)\n",
    "        search_set.update(result_ids)\n",
    "    print(len(search_results), \"results in total search\\n\")\n",
    "        \n",
    "    if verbose_search:\n",
    "        print(\"Query search results:\")\n",
    "        print(*search_results, sep=\"\\n\\n\")\n",
    "    prompt = build_prompt(query,search_results)\n",
    "    if verbose_prompt:\n",
    "        print(\"Query prompt output:\")\n",
    "        print(prompt)\n",
    "    message = llm(llm_client, prompt)\n",
    "    return(message)"
   ]
  },
  {
   "cell_type": "code",
   "execution_count": null,
   "id": "14",
   "metadata": {},
   "outputs": [],
   "source": [
    "query = \"What is the name of connector, where we can plug in power supply?\""
   ]
  },
  {
   "cell_type": "code",
   "execution_count": null,
   "id": "15",
   "metadata": {},
   "outputs": [],
   "source": [
    "llm_query = \"What is the specific name of the connector used for connecting a power supply?\""
   ]
  },
  {
   "cell_type": "raw",
   "id": "16",
   "metadata": {},
   "source": [
    "llm(llm_client,refine_query(query=query))"
   ]
  },
  {
   "cell_type": "code",
   "execution_count": null,
   "id": "17",
   "metadata": {},
   "outputs": [],
   "source": [
    "answer = rag(query, verbose_search = True)"
   ]
  },
  {
   "cell_type": "code",
   "execution_count": null,
   "id": "18",
   "metadata": {},
   "outputs": [],
   "source": []
  }
 ],
 "metadata": {
  "kernelspec": {
   "display_name": "Python 3 (ipykernel)",
   "language": "python",
   "name": "python3"
  },
  "language_info": {
   "codemirror_mode": {
    "name": "ipython",
    "version": 3
   },
   "file_extension": ".py",
   "mimetype": "text/x-python",
   "name": "python",
   "nbconvert_exporter": "python",
   "pygments_lexer": "ipython3",
   "version": "3.12.1"
  }
 },
 "nbformat": 4,
 "nbformat_minor": 5
}
