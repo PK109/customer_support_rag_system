{
 "cells": [
  {
   "cell_type": "markdown",
   "id": "c4aab8f1-5737-4d37-85c4-f278851950e5",
   "metadata": {},
   "source": [
    "%%capture\n",
    "!pip install --upgrade pymupdf"
   ]
  },
  {
   "cell_type": "code",
   "execution_count": 4,
   "id": "e9b3fe2f-7d75-4214-bdef-cf41df705845",
   "metadata": {},
   "outputs": [],
   "source": [
    "import requests\n",
    "import pymupdf\n",
    "from pprint import pprint\n",
    "from collections import deque"
   ]
  },
  {
   "cell_type": "code",
   "execution_count": 15,
   "id": "60479a94-c1f1-43d6-8e75-5126efcbaf31",
   "metadata": {},
   "outputs": [],
   "source": [
    "doc_url = \"https://dl.mitsubishielectric.com/dl/fa/document/manual/robot/bfp-a3447/bfp-a3447q.pdf\"\n",
    "file_path = \"data/manual.pdf\"\n",
    "with open(file_path, mode=\"wb+\") as f:\n",
    "    doc_file = requests.get(doc_url)\n",
    "    f.write(doc_file.content)"
   ]
  },
  {
   "cell_type": "code",
   "execution_count": 17,
   "id": "17ef4277-aeef-4658-b25e-b3e582f91091",
   "metadata": {},
   "outputs": [],
   "source": [
    "doc = pymupdf.open(file_path)\n",
    "# doc = pymupdf.open(\"data/bfp-a3447q.pdf\")\n",
    "# toc = doc.get_toc(simple= False)  # list of objects [level, title, page_number, dest]"
   ]
  },
  {
   "cell_type": "code",
   "execution_count": 19,
   "id": "7eccf909-3f04-4f72-92d7-f11c28159ff2",
   "metadata": {},
   "outputs": [],
   "source": [
    "for index, drawing in enumerate(doc[28].cluster_drawings()):\n",
    "    doc[28].get_pixmap(matrix=pymupdf.Matrix(2,2), clip= drawing).save(f'graphics_{index}.jpg')"
   ]
  },
  {
   "cell_type": "code",
   "execution_count": 16,
   "id": "729e04d0-0fef-4c11-868f-27533c8c5412",
   "metadata": {},
   "outputs": [],
   "source": [
    "doc[28].get_pixmap(matrix=pymupdf.Matrix(2,2), clip= doc[28].cluster_drawings()[0]).save('test.jpg')"
   ]
  },
  {
   "cell_type": "code",
   "execution_count": 6,
   "id": "b2dcc8f9-e434-47db-8a63-f40c47fa040c",
   "metadata": {},
   "outputs": [
    {
     "data": {
      "text/plain": [
       "[]"
      ]
     },
     "execution_count": 6,
     "metadata": {},
     "output_type": "execute_result"
    }
   ],
   "source": [
    "doc[28].get_images()"
   ]
  },
  {
   "cell_type": "code",
   "execution_count": 8,
   "id": "9f8b6e35-a421-4c8e-8941-8e4b1a442375",
   "metadata": {},
   "outputs": [],
   "source": [
    "def build_hierarchy(flat_data):\n",
    "    root = []\n",
    "    stack = deque()  # stack to track current parent chain\n",
    "\n",
    "    for item in flat_data:\n",
    "        node = {\n",
    "            \"level\": item[0],\n",
    "            \"name\": item[1],\n",
    "            \"page\": item[3]['page'],\n",
    "            \"dest\": item[3],\n",
    "            \"text\": item[1],           # placeholder for future content\n",
    "            \"children\": []\n",
    "        }\n",
    "\n",
    "        # If stack is empty or current node is top-level\n",
    "        if not stack:\n",
    "            root.append(node)\n",
    "            stack.append(node)\n",
    "        else:\n",
    "            # Pop until we find a parent node with lower level\n",
    "            while stack and stack[-1][\"level\"] >= node[\"level\"]:\n",
    "                stack.pop()\n",
    "\n",
    "            if stack:\n",
    "                stack[-1][\"children\"].append(node)\n",
    "            else:\n",
    "                root.append(node)\n",
    "\n",
    "            stack.append(node)\n",
    "\n",
    "    return root\n"
   ]
  },
  {
   "cell_type": "code",
   "execution_count": null,
   "id": "a555951d-8e81-469d-8040-0212dccabcc0",
   "metadata": {},
   "outputs": [],
   "source": [
    "# Pretty print the result\n",
    "nested = build_hierarchy(toc)\n",
    "pprint(nested, sort_dicts=False, width=120)"
   ]
  },
  {
   "cell_type": "code",
   "execution_count": 9,
   "id": "b78a84ad-46fd-415e-8aa2-6e802f1c04bd",
   "metadata": {},
   "outputs": [],
   "source": [
    "def get_full_text(chapter):\n",
    "    texts = [chapter[\"text\"]]\n",
    "    for child in chapter.get(\"children\", []):\n",
    "        texts.append(get_full_text(child))\n",
    "    return \"\\n\".join(texts)\n"
   ]
  },
  {
   "cell_type": "code",
   "execution_count": 10,
   "id": "c51825f6-d23f-4cf7-8b97-cd4c9a201068",
   "metadata": {},
   "outputs": [
    {
     "data": {
      "text/plain": [
       "'2.1 Standard specifications\\n2.1.1 Basic specifications\\n(1) RH-3CH-Sxx\\n(2) RH-6CH-Sxx\\n2.1.2 The counter-force applied to the installation surface'"
      ]
     },
     "execution_count": 10,
     "metadata": {},
     "output_type": "execute_result"
    }
   ],
   "source": [
    "get_full_text(nested[1]['children'][0])"
   ]
  },
  {
   "cell_type": "code",
   "execution_count": 16,
   "id": "3b987cf6-57d6-4709-9639-0fb14baa7419",
   "metadata": {},
   "outputs": [
    {
     "data": {
      "text/plain": [
       "8428"
      ]
     },
     "execution_count": 16,
     "metadata": {},
     "output_type": "execute_result"
    }
   ],
   "source": [
    "doc.xref_length()"
   ]
  },
  {
   "cell_type": "code",
   "execution_count": 23,
   "id": "17539153-f688-4963-9945-22144bdff6d1",
   "metadata": {},
   "outputs": [
    {
     "data": {
      "text/plain": [
       "['Count', 'Dest', 'First', 'Last', 'Next', 'Parent', 'Title']"
      ]
     },
     "execution_count": 23,
     "metadata": {},
     "output_type": "execute_result"
    }
   ],
   "source": [
    "doc.xref_get_keys(8294)"
   ]
  },
  {
   "cell_type": "code",
   "execution_count": 24,
   "id": "e2d9a648-08f1-47c3-86b2-d9e612fae540",
   "metadata": {},
   "outputs": [
    {
     "data": {
      "text/plain": [
       "('string', 'G7.3513738')"
      ]
     },
     "execution_count": 24,
     "metadata": {},
     "output_type": "execute_result"
    }
   ],
   "source": [
    "doc.xref_get_key(8294 , key)(8308)"
   ]
  },
  {
   "cell_type": "code",
   "execution_count": 8,
   "id": "9c8256b8-d7de-42ab-ae69-1b6056a1945e",
   "metadata": {
    "editable": true,
    "slideshow": {
     "slide_type": ""
    },
    "tags": []
   },
   "outputs": [
    {
     "data": {
      "text/plain": [
       "'                               2Robot arm\\n   Standard specifications   2-8\\n2 Robot arm\\n2.1 Standard specifications\\n2.1.1 Basic specifications\\n(1) RH-3CH-Sxx\\nTable 2-1 ：Standard specifications of robot arm\\nType\\nRH-3CH4018-S11/S15\\nRH-3CH4018-S23/S24\\nRH-3CH4018-S51/S52\\nEnvironment\\nStandard specification\\nInstallation posture\\nOn floor\\nDegree of freedom\\n4\\nStructure\\nHorizontal, multiple-joint type\\nDrive system \\nAC servo motor\\nPosition detection method\\nAbsolute encoder\\nMotor capacity\\nJ1\\nＷ\\n200\\nJ2\\nＷ\\n100\\nJ3 (Z)\\nＷ\\n100\\nJ4 (θ)\\nＷ\\n100\\nBrake\\nJ1, J2, J4 axes: no brake\\nJ3 axis: with brake\\nJ1, J2 axes: no brake\\nJ3, J4 axes: with brake\\nArm length\\n№1 arm\\nmm\\n225\\n№2 arm\\nmm\\n175\\nReach radius (№ 1+ № 2)\\nmm\\n400\\nOperating range\\nJ1\\ndeg\\n264(±132)\\nJ2\\ndeg\\n282(±141)\\nJ3 (Z)\\nmm\\n180\\n130\\n180\\nJ4 (θ)\\ndeg\\n720(±360)\\nSpeed of motion Note 1) \\nNote 1) The maximum speed is the value which applied MvTune2 (high-speed movement mode).\\nIn addition, it is the value during load conditions in which the effects of automatic speed compensation due to load\\nmass are not being imparted.\\nFor the RH-3CH4018-S51/S52, it is the value when the large inertia mode is disabled.\\nJ1\\ndeg/sec\\n720\\nJ2\\ndeg/sec\\n720\\nJ3 \\nmm/sec\\n1100\\nJ4\\ndeg/sec\\n2600\\nJ1+J2\\nmm/sec\\n7200\\nPose repeatability Note 2) \\nNote 2) The pose repeatability details are given in Page 12, \"2.2.1 Pose repeatability\".\\nX-Y direction\\nmm\\n±0.01\\nJ3 (Z)\\nmm\\n±0.01\\nJ4 (θ)\\ndeg\\n±0.01\\nCycle time Note 3) \\nsec\\n0.44\\nLoad\\nRating\\nkg\\n(N)\\n1\\nMaximum\\nkg\\n(N)\\n3\\n5\\nAllowable inertia (during \\nthe large inertia \\nmodeNote 4) )\\nRating\\nkg ･m2\\n0.005\\nMaximum\\nkg ･m2\\n0.05\\n(0.075)\\nJ3(Z) axis pressing force Note 5) \\nN\\n100\\nMaximum eccentricity (during the large \\ninertia modeNote 6) )\\nmm\\n150\\n(10)\\nMass\\nkg\\n14\\nTool wiring\\n15 points, D-SUB\\nTool pneumatic pipes\\nφ6 × 2, φ4 × 1\\nSupply pressure\\nMPa\\n0.5±10%\\nProtection specification Note 7) \\nIP20\\nAmbient temperature Note 8) \\n℃\\n0 to 40\\nPainting color\\nLight gray (reference Munsell color: 0.6B7.6/0.2)\\nMachine cable\\nm\\n5\\n'"
      ]
     },
     "execution_count": 8,
     "metadata": {},
     "output_type": "execute_result"
    }
   ],
   "source": [
    "page = doc[20]\n",
    "page.get_textpage()."
   ]
  },
  {
   "cell_type": "code",
   "execution_count": 14,
   "id": "3e200990-2dc0-48c3-842a-2235a200135c",
   "metadata": {
    "editable": true,
    "slideshow": {
     "slide_type": ""
    },
    "tags": []
   },
   "outputs": [
    {
     "ename": "AttributeError",
     "evalue": "'dict' object has no attribute 'dest'",
     "output_type": "error",
     "traceback": [
      "\u001b[31m---------------------------------------------------------------------------\u001b[39m",
      "\u001b[31mAttributeError\u001b[39m                            Traceback (most recent call last)",
      "\u001b[36mCell\u001b[39m\u001b[36m \u001b[39m\u001b[32mIn[14]\u001b[39m\u001b[32m, line 1\u001b[39m\n\u001b[32m----> \u001b[39m\u001b[32m1\u001b[39m [ \u001b[43mlink\u001b[49m\u001b[43m.\u001b[49m\u001b[43mdest\u001b[49m \u001b[38;5;28;01mfor\u001b[39;00m link \u001b[38;5;129;01min\u001b[39;00m page.links() \u001b[38;5;28;01mif\u001b[39;00m link[\u001b[33m'\u001b[39m\u001b[33mpage\u001b[39m\u001b[33m'\u001b[39m]==\u001b[32m13\u001b[39m]\n",
      "\u001b[31mAttributeError\u001b[39m: 'dict' object has no attribute 'dest'"
     ]
    }
   ],
   "source": [
    "[ link.dest for link in page.links() if link['page']==13]"
   ]
  },
  {
   "cell_type": "code",
   "execution_count": 15,
   "id": "0699c6a2-5f73-42cd-b1fd-e527e1a56f67",
   "metadata": {},
   "outputs": [],
   "source": [
    "link = next(page.links())"
   ]
  },
  {
   "cell_type": "code",
   "execution_count": 4,
   "id": "924ed8ff-643d-4d42-92b1-86ac29d53386",
   "metadata": {
    "editable": true,
    "slideshow": {
     "slide_type": ""
    },
    "tags": []
   },
   "outputs": [
    {
     "name": "stdout",
     "output_type": "stream",
     "text": [
      "(53.459999084472656, 75.93843841552734, 297.8989562988281, 86.91844177246094)\t 1.2.2 Combination of the robot\n",
      "(67.62000274658203, 87.97547149658203, 285.6304931640625, 97.93547058105469)\t Table 1-1 ：Combination of robo\n",
      "(53.459999084472656, 229.80137634277344, 200.15518188476562, 241.80137634277344)\t 1.3 CE marking specifications\n",
      "(67.62000274658203, 246.91546630859375, 151.07086181640625, 256.8754577636719)\t The robot shown in \n",
      "(67.6200180053711, 272.35528564453125, 305.8254089355469, 282.3152770996094)\t Table 1-2 ：Robot models with C\n",
      "(53.459999084472656, 414.1213684082031, 144.9456024169922, 426.1213684082031)\t 1.4 Indirect export\n",
      "(67.62000274658203, 431.2955017089844, 362.8234558105469, 441.2554931640625)\t The display in English is avai\n",
      "(53.459999084472656, 467.8213806152344, 169.16641235351562, 479.8213806152344)\t 1.5 Instruction manuals\n",
      "(67.62000274658203, 484.9353942871094, 533.0260009765625, 494.8953857421875)\t The instruction manuals suppli\n",
      "(67.61898803710938, 496.9352111816406, 267.49725341796875, 506.89520263671875)\t includes instruction manuals i\n",
      "(129.539306640625, 102.97534942626953, 173.05850219726562, 112.93534851074219)\t Robot arm\n",
      "(243.36000061035156, 103.50094604492188, 305.58428955078125, 112.50094604492188)\t Arm length (mm)\n",
      "(322.16229248046875, 103.50094604492188, 424.45648193359375, 112.50094604492188)\t Vertical stroke length (mm)\n",
      "(468.993896484375, 103.50094604492188, 506.3034362792969, 112.50094604492188)\t Controller\n",
      "(71.57969665527344, 117.00094604492188, 199.3392333984375, 126.00094604492188)\t Stand-alone controller compati\n",
      "(78.47999572753906, 127.98092651367188, 162.2600860595703, 136.98092651367188)\t RH-3CH4018-1D-S11\n",
      "(238.94009399414062, 127.98092651367188, 252.44189453125, 136.98092651367188)\t 400\n",
      "(318.022216796875, 127.98092651367188, 331.4619445800781, 136.98092651367188)\t 180\n",
      "(436.5216369628906, 127.98092651367188, 520.4556884765625, 136.98092651367188)\t CR751-03CHD-0-S11\n",
      "(78.47999572753906, 139.02120971679688, 162.2600860595703, 148.02120971679688)\t RH-3CH4018-1D-S23\n",
      "(318.0203857421875, 139.02120971679688, 331.4601135253906, 148.02120971679688)\t 130\n",
      "(436.5198059082031, 139.02120971679688, 520.453857421875, 148.02120971679688)\t CR751-03CHD-0-S23\n",
      "(78.47999572753906, 150.00119018554688, 162.2600860595703, 159.00119018554688)\t RH-3CH4018-1D-S51\n",
      "(318.0203857421875, 150.00119018554688, 331.4601135253906, 159.00119018554688)\t 180\n",
      "(436.5198059082031, 150.00119018554688, 520.453857421875, 159.00119018554688)\t CR751-03CHD-0-S51\n",
      "(78.47999572753906, 160.98117065429688, 162.2600860595703, 169.98117065429688)\t RH-6CH6020-1D-S11\n",
      "(238.94009399414062, 160.98117065429688, 252.44189453125, 169.98117065429688)\t 600\n",
      "(318.022216796875, 160.98117065429688, 331.4619445800781, 169.98117065429688)\t 200\n",
      "(436.5216369628906, 160.98117065429688, 520.4556884765625, 169.98117065429688)\t CR751-06CHD-0-S11\n",
      "(78.47999572753906, 171.96115112304688, 162.2600860595703, 180.96115112304688)\t RH-6CH6020-1D-S23\n",
      "(318.0203857421875, 171.96115112304688, 331.4601135253906, 180.96115112304688)\t 172\n",
      "(436.5198059082031, 171.96115112304688, 520.453857421875, 180.96115112304688)\t CR751-06CHD-0-S23\n",
      "(78.47999572753906, 183.00143432617188, 162.2600860595703, 192.00143432617188)\t RH-6CH7020-1D-S11\n",
      "(238.94009399414062, 183.00143432617188, 252.44189453125, 192.00143432617188)\t 700\n",
      "(318.022216796875, 183.00143432617188, 331.4619445800781, 192.00143432617188)\t 200\n",
      "(436.5216369628906, 183.00143432617188, 520.4556884765625, 192.00143432617188)\t CR751-06CHD-0-S11\n",
      "(78.47999572753906, 193.98141479492188, 162.2600860595703, 202.98141479492188)\t RH-6CH7020-1D-S23\n",
      "(318.0203857421875, 193.98141479492188, 331.4601135253906, 202.98141479492188)\t 172\n",
      "(436.5198059082031, 193.98141479492188, 520.453857421875, 202.98141479492188)\t CR751-06CHD-0-S23\n",
      "(129.5399932861328, 287.29547119140625, 173.05918884277344, 297.2554626464844)\t Robot arm\n",
      "(243.36000061035156, 287.8209533691406, 305.58428955078125, 296.8209533691406)\t Arm length (mm)\n",
      "(322.16229248046875, 287.8209533691406, 424.45648193359375, 296.8209533691406)\t Vertical stroke length (mm)\n",
      "(468.993896484375, 287.8209533691406, 506.3034362792969, 296.8209533691406)\t Controller\n",
      "(71.57969665527344, 301.3209533691406, 199.3392333984375, 310.3209533691406)\t Stand-alone controller compati\n",
      "(78.47999572753906, 312.3612365722656, 166.74838256835938, 321.3612365722656)\t RH-3CH4018-1D1-S15\n",
      "(238.9283905029297, 312.3612365722656, 252.4283905029297, 321.3612365722656)\t 400\n",
      "(318.0086975097656, 312.3612365722656, 331.4483947753906, 321.3612365722656)\t 180\n",
      "(436.50811767578125, 312.3612365722656, 524.9466552734375, 321.3612365722656)\t CR751-03CHD1-0-S15\n",
      "(78.47999572753906, 323.34124755859375, 166.74838256835938, 332.34124755859375)\t RH-3CH4018-1D1-S24\n",
      "(318.0086669921875, 323.34124755859375, 331.4483642578125, 332.34124755859375)\t 130\n",
      "(436.508056640625, 323.34124755859375, 524.9465942382812, 332.34124755859375)\t CR751-03CHD1-0-S24\n",
      "(78.47999572753906, 334.3212585449219, 166.74838256835938, 343.3212585449219)\t RH-3CH4018-1D1-S52\n",
      "(318.0086669921875, 334.3212585449219, 331.4483642578125, 343.3212585449219)\t 180\n",
      "(436.508056640625, 334.3212585449219, 524.9465942382812, 343.3212585449219)\t CR751-03CHD1-0-S52\n",
      "(78.47999572753906, 345.30126953125, 166.74838256835938, 354.30126953125)\t RH-6CH6020-1D1-S15\n",
      "(238.9283905029297, 345.30126953125, 252.4283905029297, 354.30126953125)\t 600\n",
      "(318.0086975097656, 345.30126953125, 331.4483947753906, 354.30126953125)\t 200\n",
      "(436.50811767578125, 345.30126953125, 524.9466552734375, 354.30126953125)\t CR751-06CHD1-0-S15\n",
      "(78.47999572753906, 356.3415832519531, 166.74838256835938, 365.3415832519531)\t RH-6CH6020-1D1-S24\n",
      "(318.0086669921875, 356.3415832519531, 331.4483642578125, 365.3415832519531)\t 172\n",
      "(436.508056640625, 356.3415832519531, 524.9465942382812, 365.3415832519531)\t CR751-06CHD1-0-S24\n",
      "(78.47999572753906, 367.32159423828125, 166.74838256835938, 376.32159423828125)\t RH-6CH7020-1D1-S15\n",
      "(238.9283905029297, 367.32159423828125, 252.4283905029297, 376.32159423828125)\t 700\n",
      "(318.0086975097656, 367.32159423828125, 331.4483947753906, 376.32159423828125)\t 200\n",
      "(436.50811767578125, 367.32159423828125, 524.9466552734375, 376.32159423828125)\t CR751-06CHD1-0-S15\n",
      "(78.47999572753906, 378.3016052246094, 166.74838256835938, 387.3016052246094)\t RH-6CH7020-1D1-S24\n",
      "(318.0086669921875, 378.3016052246094, 331.4483642578125, 387.3016052246094)\t 172\n",
      "(436.508056640625, 378.3016052246094, 524.9465942382812, 387.3016052246094)\t CR751-06CHD1-0-S24\n"
     ]
    }
   ],
   "source": [
    "blocks = doc[15].get_text(\"dict\")[\"blocks\"]\n",
    "for b in blocks:\n",
    "    y0 = b[\"bbox\"][1]\n",
    "    if 50 < y0 < 775:  # Ignore header/footer\n",
    "    # print(f'\\n{y0}:')\n",
    "        for bb in b['lines']:\n",
    "            # print(f\"{bb['spans'][0]['origin']}:\\t {bb['spans'][0]['text']}\")\n",
    "            print(f\"{bb['spans'][0]['bbox']}\\t {bb['spans'][0]['text'][:30]}\")\n",
    "            # pprint(bb['spans'][0])"
   ]
  },
  {
   "cell_type": "code",
   "execution_count": null,
   "id": "d2818552-68fc-4af4-b502-46c2c2bc9daf",
   "metadata": {},
   "outputs": [],
   "source": []
  },
  {
   "cell_type": "code",
   "execution_count": null,
   "id": "d4cf78dd-0e52-48a8-afdc-e62a8bbe05ed",
   "metadata": {
    "editable": true,
    "slideshow": {
     "slide_type": ""
    },
    "tags": []
   },
   "outputs": [],
   "source": []
  }
 ],
 "metadata": {
  "kernelspec": {
   "display_name": "Python 3 (ipykernel)",
   "language": "python",
   "name": "python3"
  },
  "language_info": {
   "codemirror_mode": {
    "name": "ipython",
    "version": 3
   },
   "file_extension": ".py",
   "mimetype": "text/x-python",
   "name": "python",
   "nbconvert_exporter": "python",
   "pygments_lexer": "ipython3",
   "version": "3.12.1"
  }
 },
 "nbformat": 4,
 "nbformat_minor": 5
}
