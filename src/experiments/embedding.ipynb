{
 "cells": [
  {
   "cell_type": "markdown",
   "id": "0",
   "metadata": {},
   "source": [
    "## Embedding"
   ]
  },
  {
   "cell_type": "raw",
   "id": "1",
   "metadata": {},
   "source": [
    "model_name = 'Snowflake/snowflake-arctic-embed-m'"
   ]
  },
  {
   "cell_type": "code",
   "execution_count": null,
   "id": "2",
   "metadata": {},
   "outputs": [],
   "source": [
    "model_name = 'all-mpnet-base-v2'"
   ]
  },
  {
   "cell_type": "code",
   "execution_count": null,
   "id": "3",
   "metadata": {},
   "outputs": [],
   "source": [
    "from sentence_transformers import SentenceTransformer\n",
    "\n",
    "model = SentenceTransformer(\n",
    "    model_name, \n",
    "    trust_remote_code=True,\n",
    "    cache_folder=\"./models\"   # explicitly setting cache location\n",
    ")\n",
    "emb_dimensions = model.get_sentence_embedding_dimension()"
   ]
  },
  {
   "cell_type": "code",
   "execution_count": null,
   "id": "4",
   "metadata": {},
   "outputs": [],
   "source": [
    "from qdrant_client import QdrantClient, models"
   ]
  },
  {
   "cell_type": "code",
   "execution_count": null,
   "id": "5",
   "metadata": {},
   "outputs": [],
   "source": [
    "client = QdrantClient(\"http://localhost:6333\") #connecting to local Qdrant instance"
   ]
  },
  {
   "cell_type": "code",
   "execution_count": null,
   "id": "6",
   "metadata": {},
   "outputs": [],
   "source": [
    "data_folder = \"data/\"\n",
    "filename = data_folder + \"bfp-a3447q.pdf\"\n",
    "content_path= filename.split('.')[0]+'_v2_chunked.txt'\n",
    "context_path= filename.split('.')[0]+'_context.txt'\n",
    "image_path = \"data/images\""
   ]
  },
  {
   "cell_type": "code",
   "execution_count": null,
   "id": "7",
   "metadata": {},
   "outputs": [],
   "source": [
    "import pathlib, json\n",
    "json_read = pathlib.Path(content_path).read_text()\n",
    "data_content = json.loads(json_read)\n",
    "json_read = pathlib.Path(context_path).read_text()\n",
    "data_context = json.loads(json_read)\n",
    "data_context = {int(k): v for k, v in data_context.items()}"
   ]
  },
  {
   "cell_type": "code",
   "execution_count": null,
   "id": "8",
   "metadata": {
    "jupyter": {
     "outputs_hidden": true
    }
   },
   "outputs": [],
   "source": [
    "collection_name = \"bfp-a3447q_v2\"\n",
    "\n",
    "if client.collection_exists(collection_name):\n",
    "    client.get_collection(collection_name)\n",
    "    print(f\"Collection {collection_name} restored\")\n",
    "else:\n",
    "    # Create the collection with specified vector parameters\n",
    "    client.create_collection(\n",
    "        collection_name=collection_name,\n",
    "        vectors_config=models.VectorParams(\n",
    "            size=emb_dimensions,  # Dimensionality of the vectors\n",
    "            distance=models.Distance.COSINE  # Distance metric for similarity search\n",
    "        )\n",
    "    )\n",
    "    print(f\"New collection {collection_name} created\")\n",
    "    \n",
    "points = []\n",
    "parent_chapter = \"\"\n",
    "id = 0\n",
    "title = 'RH-3CH-Sxx/RH-6CH-Sxx Special Specifications Manual' # can be obtained from doc metadata\n",
    "for index, chapter in enumerate(data_content):\n",
    "    # elements of data list:\n",
    "        # 0 - chapter level\n",
    "        # 1 - chapter name\n",
    "        # 2 - page number (1-based)\n",
    "        # 3 - chunk of text\n",
    "    if chapter[0] == 1:\n",
    "        root_chapter = chapter[1]\n",
    "    if 3*len(chapter[1]) > len(chapter[-1]): \n",
    "        print(f'{index}) Paragraphs not generated for chapter: {chapter[1]}')\n",
    "        continue    \n",
    "    # if index not in data_context.keys(): # if context not created, skip embedding\n",
    "    #     print(f'\\nChapter \"{chapter[1]}\" skipped', end='')\n",
    "    #     continue\n",
    "    context = \"\" # data_context[index]\n",
    "    text =  context + chapter[-1]\n",
    "    print(f'\\n\\tChapter \"{chapter[1]}\" ', end='')\n",
    "    point = models.PointStruct(\n",
    "        id=id,\n",
    "        vector=model.encode(text).tolist(),\n",
    "        payload={\n",
    "            \"content\": chapter[-1],\n",
    "            \"main_chapter\": root_chapter,\n",
    "            \"chapter\": chapter[1],\n",
    "            \"manual\": title,\n",
    "            \"page\": chapter[2]\n",
    "        } #save all needed metadata fields\n",
    "    )\n",
    "    print(\"encoded... \", end='')\n",
    "    points.append(point)\n",
    "    id += 1\n",
    "print(f\"Collection points gathered\")\n",
    "client.upsert(\n",
    "    collection_name=collection_name,\n",
    "    points=points\n",
    ")\n",
    "print(f\"Collection {collection_name} upserted.\")\n"
   ]
  },
  {
   "cell_type": "code",
   "execution_count": null,
   "id": "9",
   "metadata": {},
   "outputs": [],
   "source": []
  }
 ],
 "metadata": {
  "kernelspec": {
   "display_name": "Python 3 (ipykernel)",
   "language": "python",
   "name": "python3"
  },
  "language_info": {
   "codemirror_mode": {
    "name": "ipython",
    "version": 3
   },
   "file_extension": ".py",
   "mimetype": "text/x-python",
   "name": "python",
   "nbconvert_exporter": "python",
   "pygments_lexer": "ipython3",
   "version": "3.12.1"
  }
 },
 "nbformat": 4,
 "nbformat_minor": 5
}
